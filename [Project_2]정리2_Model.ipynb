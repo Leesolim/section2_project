{
  "nbformat": 4,
  "nbformat_minor": 0,
  "metadata": {
    "colab": {
      "provenance": [],
      "collapsed_sections": []
    },
    "kernelspec": {
      "name": "python3",
      "display_name": "Python 3"
    },
    "language_info": {
      "name": "python"
    }
  },
  "cells": [
    {
      "cell_type": "code",
      "execution_count": null,
      "metadata": {
        "colab": {
          "base_uri": "https://localhost:8080/"
        },
        "id": "cJYrcb_VpDEO",
        "outputId": "227aca32-7bc1-4655-ad78-5b76ee8b16fe"
      },
      "outputs": [
        {
          "output_type": "stream",
          "name": "stdout",
          "text": [
            "Looking in indexes: https://pypi.org/simple, https://us-python.pkg.dev/colab-wheels/public/simple/\n",
            "Collecting category_encoders\n",
            "  Downloading category_encoders-2.5.0-py2.py3-none-any.whl (69 kB)\n",
            "\u001b[K     |████████████████████████████████| 69 kB 4.7 MB/s \n",
            "\u001b[?25hRequirement already satisfied: statsmodels>=0.9.0 in /usr/local/lib/python3.7/dist-packages (from category_encoders) (0.12.2)\n",
            "Requirement already satisfied: patsy>=0.5.1 in /usr/local/lib/python3.7/dist-packages (from category_encoders) (0.5.2)\n",
            "Requirement already satisfied: numpy>=1.14.0 in /usr/local/lib/python3.7/dist-packages (from category_encoders) (1.21.6)\n",
            "Requirement already satisfied: scipy>=1.0.0 in /usr/local/lib/python3.7/dist-packages (from category_encoders) (1.7.3)\n",
            "Requirement already satisfied: pandas>=1.0.5 in /usr/local/lib/python3.7/dist-packages (from category_encoders) (1.3.5)\n",
            "Requirement already satisfied: scikit-learn>=0.20.0 in /usr/local/lib/python3.7/dist-packages (from category_encoders) (1.0.2)\n",
            "Requirement already satisfied: pytz>=2017.3 in /usr/local/lib/python3.7/dist-packages (from pandas>=1.0.5->category_encoders) (2022.2.1)\n",
            "Requirement already satisfied: python-dateutil>=2.7.3 in /usr/local/lib/python3.7/dist-packages (from pandas>=1.0.5->category_encoders) (2.8.2)\n",
            "Requirement already satisfied: six in /usr/local/lib/python3.7/dist-packages (from patsy>=0.5.1->category_encoders) (1.15.0)\n",
            "Requirement already satisfied: joblib>=0.11 in /usr/local/lib/python3.7/dist-packages (from scikit-learn>=0.20.0->category_encoders) (1.1.0)\n",
            "Requirement already satisfied: threadpoolctl>=2.0.0 in /usr/local/lib/python3.7/dist-packages (from scikit-learn>=0.20.0->category_encoders) (3.1.0)\n",
            "Installing collected packages: category-encoders\n",
            "Successfully installed category-encoders-2.5.0\n",
            "Looking in indexes: https://pypi.org/simple, https://us-python.pkg.dev/colab-wheels/public/simple/\n",
            "Requirement already satisfied: xgboost in /usr/local/lib/python3.7/dist-packages (0.90)\n",
            "Requirement already satisfied: numpy in /usr/local/lib/python3.7/dist-packages (from xgboost) (1.21.6)\n",
            "Requirement already satisfied: scipy in /usr/local/lib/python3.7/dist-packages (from xgboost) (1.7.3)\n",
            "Looking in indexes: https://pypi.org/simple, https://us-python.pkg.dev/colab-wheels/public/simple/\n",
            "Collecting eli5\n",
            "  Downloading eli5-0.13.0.tar.gz (216 kB)\n",
            "\u001b[K     |████████████████████████████████| 216 kB 5.1 MB/s \n",
            "\u001b[?25hRequirement already satisfied: attrs>17.1.0 in /usr/local/lib/python3.7/dist-packages (from eli5) (22.1.0)\n",
            "Collecting jinja2>=3.0.0\n",
            "  Downloading Jinja2-3.1.2-py3-none-any.whl (133 kB)\n",
            "\u001b[K     |████████████████████████████████| 133 kB 6.6 MB/s \n",
            "\u001b[?25hRequirement already satisfied: numpy>=1.9.0 in /usr/local/lib/python3.7/dist-packages (from eli5) (1.21.6)\n",
            "Requirement already satisfied: scipy in /usr/local/lib/python3.7/dist-packages (from eli5) (1.7.3)\n",
            "Requirement already satisfied: six in /usr/local/lib/python3.7/dist-packages (from eli5) (1.15.0)\n",
            "Requirement already satisfied: scikit-learn>=0.20 in /usr/local/lib/python3.7/dist-packages (from eli5) (1.0.2)\n",
            "Requirement already satisfied: graphviz in /usr/local/lib/python3.7/dist-packages (from eli5) (0.10.1)\n",
            "Requirement already satisfied: tabulate>=0.7.7 in /usr/local/lib/python3.7/dist-packages (from eli5) (0.8.10)\n",
            "Requirement already satisfied: MarkupSafe>=2.0 in /usr/local/lib/python3.7/dist-packages (from jinja2>=3.0.0->eli5) (2.0.1)\n",
            "Requirement already satisfied: joblib>=0.11 in /usr/local/lib/python3.7/dist-packages (from scikit-learn>=0.20->eli5) (1.1.0)\n",
            "Requirement already satisfied: threadpoolctl>=2.0.0 in /usr/local/lib/python3.7/dist-packages (from scikit-learn>=0.20->eli5) (3.1.0)\n",
            "Building wheels for collected packages: eli5\n",
            "  Building wheel for eli5 (setup.py) ... \u001b[?25l\u001b[?25hdone\n",
            "  Created wheel for eli5: filename=eli5-0.13.0-py2.py3-none-any.whl size=107748 sha256=3a2b80cf59b4a1cc749bea0534949e9ac20f88d3a1c6c35f8ec720e2872fa050\n",
            "  Stored in directory: /root/.cache/pip/wheels/cc/3c/96/3ead31a8e6c20fc0f1a707fde2e05d49a80b1b4b30096573be\n",
            "Successfully built eli5\n",
            "Installing collected packages: jinja2, eli5\n",
            "  Attempting uninstall: jinja2\n",
            "    Found existing installation: Jinja2 2.11.3\n",
            "    Uninstalling Jinja2-2.11.3:\n",
            "      Successfully uninstalled Jinja2-2.11.3\n",
            "\u001b[31mERROR: pip's dependency resolver does not currently take into account all the packages that are installed. This behaviour is the source of the following dependency conflicts.\n",
            "flask 1.1.4 requires Jinja2<3.0,>=2.10.1, but you have jinja2 3.1.2 which is incompatible.\u001b[0m\n",
            "Successfully installed eli5-0.13.0 jinja2-3.1.2\n"
          ]
        }
      ],
      "source": [
        "!pip install category_encoders\n",
        "!pip3 install xgboost\n",
        "!pip3 install eli5"
      ]
    },
    {
      "cell_type": "code",
      "source": [
        "import pandas as pd\n",
        "import numpy as np\n",
        "import matplotlib.pyplot as plt\n",
        "import seaborn as sns\n",
        "\n",
        "from sklearn.datasets import make_classification\n",
        "from category_encoders import OrdinalEncoder\n",
        "from sklearn.impute import SimpleImputer\n",
        "from sklearn.pipeline import make_pipeline\n",
        "from sklearn.metrics import classification_report\n",
        "from sklearn.metrics import accuracy_score\n",
        "from sklearn.metrics import plot_confusion_matrix\n",
        "\n",
        "from sklearn.tree import DecisionTreeClassifier\n",
        "from sklearn.ensemble import RandomForestClassifier\n",
        "from xgboost import XGBClassifier"
      ],
      "metadata": {
        "id": "seR1ACC_qLSi"
      },
      "execution_count": null,
      "outputs": []
    },
    {
      "cell_type": "code",
      "source": [
        "from google.colab import drive\n",
        "drive.mount(\"/content/drive\")\n",
        "df = pd.read_csv(\"/content/drive/MyDrive/PonderosaPine_out.csv\")\n",
        "\n",
        "# Cover_Type, 'Cover_Type_Tree'가 있으면 데이터 누수가 발생(정답이므로,,,)하므로 삭제, \n",
        "# object는 category 로 자료형 변경\n",
        "# df = df.drop(columns = ['Cover_Type','Cover_Type_Tree'], axis=1)\n",
        "df['Area'] = df['Area'].astype('category')\n",
        "df['Soil_Type'] = df['Soil_Type'].astype('category')\n",
        "df['PonderosaPine'] = df['PonderosaPine'].astype('category')\n",
        "# df['PonderosaPine'] = df['PonderosaPine'].replace({'No':0, 'Yes':1}).astype('category')\n",
        "\n",
        "df.info()\n",
        "df.head()"
      ],
      "metadata": {
        "colab": {
          "base_uri": "https://localhost:8080/",
          "height": 743
        },
        "id": "aT_JVDaIqLfe",
        "outputId": "0f05f5a8-8cfc-4ec4-c37f-74341f0427ab"
      },
      "execution_count": null,
      "outputs": [
        {
          "output_type": "stream",
          "name": "stdout",
          "text": [
            "Mounted at /content/drive\n",
            "<class 'pandas.core.frame.DataFrame'>\n",
            "RangeIndex: 290332 entries, 0 to 290331\n",
            "Data columns (total 13 columns):\n",
            " #   Column                              Non-Null Count   Dtype   \n",
            "---  ------                              --------------   -----   \n",
            " 0   Elevation                           290332 non-null  int64   \n",
            " 1   Aspect                              290332 non-null  int64   \n",
            " 2   Slope                               290332 non-null  int64   \n",
            " 3   Horizontal_Distance_To_Hydrology    290332 non-null  int64   \n",
            " 4   Vertical_Distance_To_Hydrology      290332 non-null  int64   \n",
            " 5   Horizontal_Distance_To_Roadways     290332 non-null  int64   \n",
            " 6   Hillshade_9am                       290332 non-null  int64   \n",
            " 7   Hillshade_Noon                      290332 non-null  int64   \n",
            " 8   Hillshade_3pm                       290332 non-null  int64   \n",
            " 9   Horizontal_Distance_To_Fire_Points  290332 non-null  int64   \n",
            " 10  Area                                290332 non-null  category\n",
            " 11  Soil_Type                           290332 non-null  category\n",
            " 12  PonderosaPine                       290332 non-null  category\n",
            "dtypes: category(3), int64(10)\n",
            "memory usage: 23.0 MB\n"
          ]
        },
        {
          "output_type": "execute_result",
          "data": {
            "text/plain": [
              "   Elevation  Aspect  Slope  Horizontal_Distance_To_Hydrology  \\\n",
              "0       2621     162     13                                60   \n",
              "1       2664     112      5                                60   \n",
              "2       2633      68      8                                42   \n",
              "3       2662     105      5                                30   \n",
              "4       2674      10      8                                30   \n",
              "\n",
              "   Vertical_Distance_To_Hydrology  Horizontal_Distance_To_Roadways  \\\n",
              "0                              -6                              849   \n",
              "1                              -8                             1214   \n",
              "2                               2                              979   \n",
              "3                              -3                             1211   \n",
              "4                               1                             1295   \n",
              "\n",
              "   Hillshade_9am  Hillshade_Noon  Hillshade_3pm  \\\n",
              "0            232             243            139   \n",
              "1            229             234            139   \n",
              "2            228             225            130   \n",
              "3            228             234            140   \n",
              "4            211             224            149   \n",
              "\n",
              "   Horizontal_Distance_To_Fire_Points           Area    Soil_Type  \\\n",
              "0                                1521  Comanche Peak  Soil_Type20   \n",
              "1                                1719  Comanche Peak  Soil_Type20   \n",
              "2                                1594  Comanche Peak  Soil_Type20   \n",
              "3                                1731  Comanche Peak  Soil_Type20   \n",
              "4                                1801  Comanche Peak  Soil_Type20   \n",
              "\n",
              "  PonderosaPine  \n",
              "0            No  \n",
              "1            No  \n",
              "2            No  \n",
              "3            No  \n",
              "4            No  "
            ],
            "text/html": [
              "\n",
              "  <div id=\"df-8d20a3d9-b6ef-4b49-becd-bec974f4a3a8\">\n",
              "    <div class=\"colab-df-container\">\n",
              "      <div>\n",
              "<style scoped>\n",
              "    .dataframe tbody tr th:only-of-type {\n",
              "        vertical-align: middle;\n",
              "    }\n",
              "\n",
              "    .dataframe tbody tr th {\n",
              "        vertical-align: top;\n",
              "    }\n",
              "\n",
              "    .dataframe thead th {\n",
              "        text-align: right;\n",
              "    }\n",
              "</style>\n",
              "<table border=\"1\" class=\"dataframe\">\n",
              "  <thead>\n",
              "    <tr style=\"text-align: right;\">\n",
              "      <th></th>\n",
              "      <th>Elevation</th>\n",
              "      <th>Aspect</th>\n",
              "      <th>Slope</th>\n",
              "      <th>Horizontal_Distance_To_Hydrology</th>\n",
              "      <th>Vertical_Distance_To_Hydrology</th>\n",
              "      <th>Horizontal_Distance_To_Roadways</th>\n",
              "      <th>Hillshade_9am</th>\n",
              "      <th>Hillshade_Noon</th>\n",
              "      <th>Hillshade_3pm</th>\n",
              "      <th>Horizontal_Distance_To_Fire_Points</th>\n",
              "      <th>Area</th>\n",
              "      <th>Soil_Type</th>\n",
              "      <th>PonderosaPine</th>\n",
              "    </tr>\n",
              "  </thead>\n",
              "  <tbody>\n",
              "    <tr>\n",
              "      <th>0</th>\n",
              "      <td>2621</td>\n",
              "      <td>162</td>\n",
              "      <td>13</td>\n",
              "      <td>60</td>\n",
              "      <td>-6</td>\n",
              "      <td>849</td>\n",
              "      <td>232</td>\n",
              "      <td>243</td>\n",
              "      <td>139</td>\n",
              "      <td>1521</td>\n",
              "      <td>Comanche Peak</td>\n",
              "      <td>Soil_Type20</td>\n",
              "      <td>No</td>\n",
              "    </tr>\n",
              "    <tr>\n",
              "      <th>1</th>\n",
              "      <td>2664</td>\n",
              "      <td>112</td>\n",
              "      <td>5</td>\n",
              "      <td>60</td>\n",
              "      <td>-8</td>\n",
              "      <td>1214</td>\n",
              "      <td>229</td>\n",
              "      <td>234</td>\n",
              "      <td>139</td>\n",
              "      <td>1719</td>\n",
              "      <td>Comanche Peak</td>\n",
              "      <td>Soil_Type20</td>\n",
              "      <td>No</td>\n",
              "    </tr>\n",
              "    <tr>\n",
              "      <th>2</th>\n",
              "      <td>2633</td>\n",
              "      <td>68</td>\n",
              "      <td>8</td>\n",
              "      <td>42</td>\n",
              "      <td>2</td>\n",
              "      <td>979</td>\n",
              "      <td>228</td>\n",
              "      <td>225</td>\n",
              "      <td>130</td>\n",
              "      <td>1594</td>\n",
              "      <td>Comanche Peak</td>\n",
              "      <td>Soil_Type20</td>\n",
              "      <td>No</td>\n",
              "    </tr>\n",
              "    <tr>\n",
              "      <th>3</th>\n",
              "      <td>2662</td>\n",
              "      <td>105</td>\n",
              "      <td>5</td>\n",
              "      <td>30</td>\n",
              "      <td>-3</td>\n",
              "      <td>1211</td>\n",
              "      <td>228</td>\n",
              "      <td>234</td>\n",
              "      <td>140</td>\n",
              "      <td>1731</td>\n",
              "      <td>Comanche Peak</td>\n",
              "      <td>Soil_Type20</td>\n",
              "      <td>No</td>\n",
              "    </tr>\n",
              "    <tr>\n",
              "      <th>4</th>\n",
              "      <td>2674</td>\n",
              "      <td>10</td>\n",
              "      <td>8</td>\n",
              "      <td>30</td>\n",
              "      <td>1</td>\n",
              "      <td>1295</td>\n",
              "      <td>211</td>\n",
              "      <td>224</td>\n",
              "      <td>149</td>\n",
              "      <td>1801</td>\n",
              "      <td>Comanche Peak</td>\n",
              "      <td>Soil_Type20</td>\n",
              "      <td>No</td>\n",
              "    </tr>\n",
              "  </tbody>\n",
              "</table>\n",
              "</div>\n",
              "      <button class=\"colab-df-convert\" onclick=\"convertToInteractive('df-8d20a3d9-b6ef-4b49-becd-bec974f4a3a8')\"\n",
              "              title=\"Convert this dataframe to an interactive table.\"\n",
              "              style=\"display:none;\">\n",
              "        \n",
              "  <svg xmlns=\"http://www.w3.org/2000/svg\" height=\"24px\"viewBox=\"0 0 24 24\"\n",
              "       width=\"24px\">\n",
              "    <path d=\"M0 0h24v24H0V0z\" fill=\"none\"/>\n",
              "    <path d=\"M18.56 5.44l.94 2.06.94-2.06 2.06-.94-2.06-.94-.94-2.06-.94 2.06-2.06.94zm-11 1L8.5 8.5l.94-2.06 2.06-.94-2.06-.94L8.5 2.5l-.94 2.06-2.06.94zm10 10l.94 2.06.94-2.06 2.06-.94-2.06-.94-.94-2.06-.94 2.06-2.06.94z\"/><path d=\"M17.41 7.96l-1.37-1.37c-.4-.4-.92-.59-1.43-.59-.52 0-1.04.2-1.43.59L10.3 9.45l-7.72 7.72c-.78.78-.78 2.05 0 2.83L4 21.41c.39.39.9.59 1.41.59.51 0 1.02-.2 1.41-.59l7.78-7.78 2.81-2.81c.8-.78.8-2.07 0-2.86zM5.41 20L4 18.59l7.72-7.72 1.47 1.35L5.41 20z\"/>\n",
              "  </svg>\n",
              "      </button>\n",
              "      \n",
              "  <style>\n",
              "    .colab-df-container {\n",
              "      display:flex;\n",
              "      flex-wrap:wrap;\n",
              "      gap: 12px;\n",
              "    }\n",
              "\n",
              "    .colab-df-convert {\n",
              "      background-color: #E8F0FE;\n",
              "      border: none;\n",
              "      border-radius: 50%;\n",
              "      cursor: pointer;\n",
              "      display: none;\n",
              "      fill: #1967D2;\n",
              "      height: 32px;\n",
              "      padding: 0 0 0 0;\n",
              "      width: 32px;\n",
              "    }\n",
              "\n",
              "    .colab-df-convert:hover {\n",
              "      background-color: #E2EBFA;\n",
              "      box-shadow: 0px 1px 2px rgba(60, 64, 67, 0.3), 0px 1px 3px 1px rgba(60, 64, 67, 0.15);\n",
              "      fill: #174EA6;\n",
              "    }\n",
              "\n",
              "    [theme=dark] .colab-df-convert {\n",
              "      background-color: #3B4455;\n",
              "      fill: #D2E3FC;\n",
              "    }\n",
              "\n",
              "    [theme=dark] .colab-df-convert:hover {\n",
              "      background-color: #434B5C;\n",
              "      box-shadow: 0px 1px 3px 1px rgba(0, 0, 0, 0.15);\n",
              "      filter: drop-shadow(0px 1px 2px rgba(0, 0, 0, 0.3));\n",
              "      fill: #FFFFFF;\n",
              "    }\n",
              "  </style>\n",
              "\n",
              "      <script>\n",
              "        const buttonEl =\n",
              "          document.querySelector('#df-8d20a3d9-b6ef-4b49-becd-bec974f4a3a8 button.colab-df-convert');\n",
              "        buttonEl.style.display =\n",
              "          google.colab.kernel.accessAllowed ? 'block' : 'none';\n",
              "\n",
              "        async function convertToInteractive(key) {\n",
              "          const element = document.querySelector('#df-8d20a3d9-b6ef-4b49-becd-bec974f4a3a8');\n",
              "          const dataTable =\n",
              "            await google.colab.kernel.invokeFunction('convertToInteractive',\n",
              "                                                     [key], {});\n",
              "          if (!dataTable) return;\n",
              "\n",
              "          const docLinkHtml = 'Like what you see? Visit the ' +\n",
              "            '<a target=\"_blank\" href=https://colab.research.google.com/notebooks/data_table.ipynb>data table notebook</a>'\n",
              "            + ' to learn more about interactive tables.';\n",
              "          element.innerHTML = '';\n",
              "          dataTable['output_type'] = 'display_data';\n",
              "          await google.colab.output.renderOutput(dataTable, element);\n",
              "          const docLink = document.createElement('div');\n",
              "          docLink.innerHTML = docLinkHtml;\n",
              "          element.appendChild(docLink);\n",
              "        }\n",
              "      </script>\n",
              "    </div>\n",
              "  </div>\n",
              "  "
            ]
          },
          "metadata": {},
          "execution_count": 3
        }
      ]
    },
    {
      "cell_type": "code",
      "source": [
        "y =  df['PonderosaPine']\n",
        "print(\"타겟데이터의 비율\\n\",y.value_counts(normalize=True))\n",
        "\n",
        "%matplotlib inline\n",
        "sns.countplot(x=y);"
      ],
      "metadata": {
        "colab": {
          "base_uri": "https://localhost:8080/",
          "height": 352
        },
        "id": "QTM9y2inqLiZ",
        "outputId": "622a24d8-3af3-4994-9142-ddf44d236c41"
      },
      "execution_count": null,
      "outputs": [
        {
          "output_type": "stream",
          "name": "stdout",
          "text": [
            "타겟데이터의 비율\n",
            " No     0.876851\n",
            "Yes    0.123149\n",
            "Name: PonderosaPine, dtype: float64\n"
          ]
        },
        {
          "output_type": "display_data",
          "data": {
            "text/plain": [
              "<Figure size 432x288 with 1 Axes>"
            ],
            "image/png": "[encoded data removed]"
          },
          "metadata": {
            "needs_background": "light"
          }
        }
      ]
    },
    {
      "cell_type": "code",
      "source": [
        "# train, validation, test set으로 먼저 나눠주겠습니다.\n",
        "\n",
        "from sklearn.model_selection import train_test_split\n",
        "\n",
        "# 타겟값이 문자형이기 때문에 수치형으로 바꿔주겠습니다.\n",
        "# df['PonderosaPine'] = df['PonderosaPine'].replace({'No':0, 'Yes':1}).astype('category')\n",
        "\n",
        "y = df['PonderosaPine']\n",
        "X = df.drop('PonderosaPine', axis=1)\n",
        "\n",
        "X_train, X_test, y_train, y_test = train_test_split(X, y,  random_state=42, stratify=y)\n",
        "X_train, X_val, y_train, y_val = train_test_split(X_train, y_train, random_state=42, stratify=y_train)\n",
        "\n",
        "print(\"X_train shape: \", X_train.shape)\n",
        "print(\"X_val shape: \", X_val.shape)\n",
        "print(\"X_test shape: \", X_test.shape)"
      ],
      "metadata": {
        "colab": {
          "base_uri": "https://localhost:8080/"
        },
        "id": "G-drI9zpqLlT",
        "outputId": "05306b81-efa1-45ca-8999-5d6f07616058"
      },
      "execution_count": null,
      "outputs": [
        {
          "output_type": "stream",
          "name": "stdout",
          "text": [
            "X_train shape:  (163311, 12)\n",
            "X_val shape:  (54438, 12)\n",
            "X_test shape:  (72583, 12)\n"
          ]
        }
      ]
    },
    {
      "cell_type": "code",
      "source": [
        "# 기준모델 <<< 중요.. 중요...>>\n",
        "from sklearn.metrics import accuracy_score\n",
        "\n",
        "base = y_train.mode()[0]\n",
        "y_pred_base = len(y_train) * [base]\n",
        "print(\"훈련 정확도: \", accuracy_score(y_train, y_pred_base).round(2))\n",
        "\n",
        "# 검증세트에서도 정확도를 확인해 볼 수 있습니다.\n",
        "y_pred_base_val = [base] * len(y_val)\n",
        "print(\"검증 정확도: \", accuracy_score(y_val, y_pred_base_val).round(2))\n",
        "\n",
        "print(classification_report(y_val, y_pred_base_val))"
      ],
      "metadata": {
        "colab": {
          "base_uri": "https://localhost:8080/"
        },
        "id": "YNIJ8bIuqLn3",
        "outputId": "cc35301e-7df0-4ebb-eaee-5b3382b2f393"
      },
      "execution_count": null,
      "outputs": [
        {
          "output_type": "stream",
          "name": "stdout",
          "text": [
            "훈련 정확도:  0.88\n",
            "검증 정확도:  0.88\n"
          ]
        },
        {
          "output_type": "stream",
          "name": "stderr",
          "text": [
            "/usr/local/lib/python3.7/dist-packages/sklearn/metrics/_classification.py:1318: UndefinedMetricWarning: Precision and F-score are ill-defined and being set to 0.0 in labels with no predicted samples. Use `zero_division` parameter to control this behavior.\n",
            "  _warn_prf(average, modifier, msg_start, len(result))\n",
            "/usr/local/lib/python3.7/dist-packages/sklearn/metrics/_classification.py:1318: UndefinedMetricWarning: Precision and F-score are ill-defined and being set to 0.0 in labels with no predicted samples. Use `zero_division` parameter to control this behavior.\n",
            "  _warn_prf(average, modifier, msg_start, len(result))\n"
          ]
        },
        {
          "output_type": "stream",
          "name": "stdout",
          "text": [
            "              precision    recall  f1-score   support\n",
            "\n",
            "          No       0.88      1.00      0.93     47734\n",
            "         Yes       0.00      0.00      0.00      6704\n",
            "\n",
            "    accuracy                           0.88     54438\n",
            "   macro avg       0.44      0.50      0.47     54438\n",
            "weighted avg       0.77      0.88      0.82     54438\n",
            "\n"
          ]
        },
        {
          "output_type": "stream",
          "name": "stderr",
          "text": [
            "/usr/local/lib/python3.7/dist-packages/sklearn/metrics/_classification.py:1318: UndefinedMetricWarning: Precision and F-score are ill-defined and being set to 0.0 in labels with no predicted samples. Use `zero_division` parameter to control this behavior.\n",
            "  _warn_prf(average, modifier, msg_start, len(result))\n"
          ]
        }
      ]
    },
    {
      "cell_type": "code",
      "source": [
        "y_true0 = y_val.value_counts()[0]\n",
        "y_true1 = y_val.value_counts()[1]\n",
        "fn = len(y_pred_base_val) - y_true0\n",
        "base = pd.DataFrame(index = ['True 0', 'True1'], data = {'Predicted 0':[y_true0, fn], 'Predicted 1':[0,0]})\n",
        "base"
      ],
      "metadata": {
        "colab": {
          "base_uri": "https://localhost:8080/",
          "height": 112
        },
        "id": "QTDOIeVkqLxP",
        "outputId": "062eaad2-e49d-4b0f-fa5c-b5cdf9ce0cd2"
      },
      "execution_count": null,
      "outputs": [
        {
          "output_type": "execute_result",
          "data": {
            "text/plain": [
              "        Predicted 0  Predicted 1\n",
              "True 0        47734            0\n",
              "True1          6704            0"
            ],
            "text/html": [
              "\n",
              "  <div id=\"df-8aa0525d-cd0e-4374-a304-f7843a882f4c\">\n",
              "    <div class=\"colab-df-container\">\n",
              "      <div>\n",
              "<style scoped>\n",
              "    .dataframe tbody tr th:only-of-type {\n",
              "        vertical-align: middle;\n",
              "    }\n",
              "\n",
              "    .dataframe tbody tr th {\n",
              "        vertical-align: top;\n",
              "    }\n",
              "\n",
              "    .dataframe thead th {\n",
              "        text-align: right;\n",
              "    }\n",
              "</style>\n",
              "<table border=\"1\" class=\"dataframe\">\n",
              "  <thead>\n",
              "    <tr style=\"text-align: right;\">\n",
              "      <th></th>\n",
              "      <th>Predicted 0</th>\n",
              "      <th>Predicted 1</th>\n",
              "    </tr>\n",
              "  </thead>\n",
              "  <tbody>\n",
              "    <tr>\n",
              "      <th>True 0</th>\n",
              "      <td>47734</td>\n",
              "      <td>0</td>\n",
              "    </tr>\n",
              "    <tr>\n",
              "      <th>True1</th>\n",
              "      <td>6704</td>\n",
              "      <td>0</td>\n",
              "    </tr>\n",
              "  </tbody>\n",
              "</table>\n",
              "</div>\n",
              "      <button class=\"colab-df-convert\" onclick=\"convertToInteractive('df-8aa0525d-cd0e-4374-a304-f7843a882f4c')\"\n",
              "              title=\"Convert this dataframe to an interactive table.\"\n",
              "              style=\"display:none;\">\n",
              "        \n",
              "  <svg xmlns=\"http://www.w3.org/2000/svg\" height=\"24px\"viewBox=\"0 0 24 24\"\n",
              "       width=\"24px\">\n",
              "    <path d=\"M0 0h24v24H0V0z\" fill=\"none\"/>\n",
              "    <path d=\"M18.56 5.44l.94 2.06.94-2.06 2.06-.94-2.06-.94-.94-2.06-.94 2.06-2.06.94zm-11 1L8.5 8.5l.94-2.06 2.06-.94-2.06-.94L8.5 2.5l-.94 2.06-2.06.94zm10 10l.94 2.06.94-2.06 2.06-.94-2.06-.94-.94-2.06-.94 2.06-2.06.94z\"/><path d=\"M17.41 7.96l-1.37-1.37c-.4-.4-.92-.59-1.43-.59-.52 0-1.04.2-1.43.59L10.3 9.45l-7.72 7.72c-.78.78-.78 2.05 0 2.83L4 21.41c.39.39.9.59 1.41.59.51 0 1.02-.2 1.41-.59l7.78-7.78 2.81-2.81c.8-.78.8-2.07 0-2.86zM5.41 20L4 18.59l7.72-7.72 1.47 1.35L5.41 20z\"/>\n",
              "  </svg>\n",
              "      </button>\n",
              "      \n",
              "  <style>\n",
              "    .colab-df-container {\n",
              "      display:flex;\n",
              "      flex-wrap:wrap;\n",
              "      gap: 12px;\n",
              "    }\n",
              "\n",
              "    .colab-df-convert {\n",
              "      background-color: #E8F0FE;\n",
              "      border: none;\n",
              "      border-radius: 50%;\n",
              "      cursor: pointer;\n",
              "      display: none;\n",
              "      fill: #1967D2;\n",
              "      height: 32px;\n",
              "      padding: 0 0 0 0;\n",
              "      width: 32px;\n",
              "    }\n",
              "\n",
              "    .colab-df-convert:hover {\n",
              "      background-color: #E2EBFA;\n",
              "      box-shadow: 0px 1px 2px rgba(60, 64, 67, 0.3), 0px 1px 3px 1px rgba(60, 64, 67, 0.15);\n",
              "      fill: #174EA6;\n",
              "    }\n",
              "\n",
              "    [theme=dark] .colab-df-convert {\n",
              "      background-color: #3B4455;\n",
              "      fill: #D2E3FC;\n",
              "    }\n",
              "\n",
              "    [theme=dark] .colab-df-convert:hover {\n",
              "      background-color: #434B5C;\n",
              "      box-shadow: 0px 1px 3px 1px rgba(0, 0, 0, 0.15);\n",
              "      filter: drop-shadow(0px 1px 2px rgba(0, 0, 0, 0.3));\n",
              "      fill: #FFFFFF;\n",
              "    }\n",
              "  </style>\n",
              "\n",
              "      <script>\n",
              "        const buttonEl =\n",
              "          document.querySelector('#df-8aa0525d-cd0e-4374-a304-f7843a882f4c button.colab-df-convert');\n",
              "        buttonEl.style.display =\n",
              "          google.colab.kernel.accessAllowed ? 'block' : 'none';\n",
              "\n",
              "        async function convertToInteractive(key) {\n",
              "          const element = document.querySelector('#df-8aa0525d-cd0e-4374-a304-f7843a882f4c');\n",
              "          const dataTable =\n",
              "            await google.colab.kernel.invokeFunction('convertToInteractive',\n",
              "                                                     [key], {});\n",
              "          if (!dataTable) return;\n",
              "\n",
              "          const docLinkHtml = 'Like what you see? Visit the ' +\n",
              "            '<a target=\"_blank\" href=https://colab.research.google.com/notebooks/data_table.ipynb>data table notebook</a>'\n",
              "            + ' to learn more about interactive tables.';\n",
              "          element.innerHTML = '';\n",
              "          dataTable['output_type'] = 'display_data';\n",
              "          await google.colab.output.renderOutput(dataTable, element);\n",
              "          const docLink = document.createElement('div');\n",
              "          docLink.innerHTML = docLinkHtml;\n",
              "          element.appendChild(docLink);\n",
              "        }\n",
              "      </script>\n",
              "    </div>\n",
              "  </div>\n",
              "  "
            ]
          },
          "metadata": {},
          "execution_count": 7
        }
      ]
    },
    {
      "cell_type": "code",
      "source": [
        "fig, ax = plt.subplots()\n",
        "sns.heatmap(base, cmap=plt.cm.Blues, annot=True,fmt=\"d\")\n",
        "plt.title(f'Confusion matrix of Baseline, n = {len(y_val)}', fontsize=15)\n",
        "plt.show()"
      ],
      "metadata": {
        "colab": {
          "base_uri": "https://localhost:8080/",
          "height": 283
        },
        "id": "m9K7sTG2qi7m",
        "outputId": "74ecc3d2-7656-49c1-aaa4-82cbd60cbb02"
      },
      "execution_count": null,
      "outputs": [
        {
          "output_type": "display_data",
          "data": {
            "text/plain": [
              "<Figure size 432x288 with 2 Axes>"
            ],
            "image/png": "[encoded data removed]"
          },
          "metadata": {
            "needs_background": "light"
          }
        }
      ]
    },
    {
      "cell_type": "code",
      "source": [
        "# 결정트리모델\n",
        "from category_encoders import OrdinalEncoder\n",
        "from sklearn.impute import SimpleImputer\n",
        "from sklearn.pipeline import make_pipeline\n",
        "from sklearn.tree import DecisionTreeClassifier\n",
        "\n",
        "pipe_dt = make_pipeline(\n",
        "    OrdinalEncoder(),\n",
        "    SimpleImputer(),\n",
        "    DecisionTreeClassifier(random_state=1, criterion=\"entropy\", max_depth=20, class_weight=\"balanced\",),\n",
        ")\n",
        "pipe_dt.fit(X_train, y_train)\n",
        "\n",
        "print(\"훈련 정확도: \", pipe_dt.score(X_train, y_train))\n",
        "print(\"검증 정확도: \", pipe_dt.score(X_val, y_val))\n",
        "\n",
        "y_pred_dt = pipe_dt.predict(X_val)\n",
        "print(classification_report(y_val, y_pred_dt))"
      ],
      "metadata": {
        "colab": {
          "base_uri": "https://localhost:8080/"
        },
        "id": "mXxvc3drqi-Q",
        "outputId": "08eae105-280b-4ac0-cc47-e18be009acca"
      },
      "execution_count": null,
      "outputs": [
        {
          "output_type": "stream",
          "name": "stdout",
          "text": [
            "훈련 정확도:  0.9914580156878594\n",
            "검증 정확도:  0.9747786472684522\n",
            "              precision    recall  f1-score   support\n",
            "\n",
            "          No       0.99      0.98      0.99     47734\n",
            "         Yes       0.87      0.93      0.90      6704\n",
            "\n",
            "    accuracy                           0.97     54438\n",
            "   macro avg       0.93      0.96      0.94     54438\n",
            "weighted avg       0.98      0.97      0.98     54438\n",
            "\n"
          ]
        }
      ]
    },
    {
      "cell_type": "code",
      "source": [
        "# confusion matrix\n",
        "from sklearn.metrics import confusion_matrix, ConfusionMatrixDisplay\n",
        "import seaborn as sns\n",
        "\n",
        "\n",
        "def plot_confusion_matrix(model, X_val_encoded, y_val):\n",
        "    if isinstance(model, DecisionTreeClassifier):\n",
        "        y_pred = model.predict(X_val_encoded, iteration_range=(0, model.best_iteration))\n",
        "    else:\n",
        "        y_pred = model.predict(X_val_encoded)\n",
        "    cm = confusion_matrix(y_val, y_pred)\n",
        "    disp = ConfusionMatrixDisplay(cm)\n",
        "    disp.plot(cmap='Blues')\n",
        "    plt.show()\n",
        "    \n",
        "plot_confusion_matrix(pipe_dt, X_val, y_val)"
      ],
      "metadata": {
        "colab": {
          "base_uri": "https://localhost:8080/",
          "height": 279
        },
        "id": "eUA5cUOYqjBb",
        "outputId": "1f2743a4-f453-4ff2-b8d4-33e7abff13e9"
      },
      "execution_count": null,
      "outputs": [
        {
          "output_type": "display_data",
          "data": {
            "text/plain": [
              "<Figure size 432x288 with 2 Axes>"
            ],
            "image/png": "[encoded data removed]"
          },
          "metadata": {
            "needs_background": "light"
          }
        }
      ]
    },
    {
      "cell_type": "code",
      "source": [
        "import graphviz\n",
        "from sklearn.tree import export_graphviz\n",
        "\n",
        "# graphviz 설치방법: conda install -c conda-forge python-graphviz\n",
        "\n",
        "# named_steps 속성을 사용해서 파이프라인의 각 스텝에 접근이 가능합니다.\n",
        "# named_steps 은 유사 딕셔너리 객체(dictionary-like object)로 파이프라인 내 과정에 접근 가능하도록 합니다.\n",
        "model_dt = pipe_dt.named_steps['decisiontreeclassifier']\n",
        "enc = pipe_dt.named_steps['ordinalencoder']\n",
        "encoded_columns = enc.transform(X_val).columns\n",
        "\n",
        "dot_data = export_graphviz(model_dt\n",
        "                          , max_depth=3\n",
        "                          , feature_names=encoded_columns\n",
        "                          , class_names=['yes', 'no']\n",
        "                          , filled=True\n",
        "                          , proportion=True)\n",
        "\n",
        "\n",
        "display(graphviz.Source(dot_data))"
      ],
      "metadata": {
        "colab": {
          "base_uri": "https://localhost:8080/",
          "height": 734
        },
        "id": "J4g5K9GkqjEJ",
        "outputId": "ce6e5be6-41d3-4af9-c262-9e0e37d380b9"
      },
      "execution_count": null,
      "outputs": [
        {
          "output_type": "display_data",
          "data": {
            "text/plain": [
              "<graphviz.files.Source at 0x7f88ac51ea50>"
            ],
            "image/svg+xml": "<?xml version=\"1.0\" encoding=\"UTF-8\" standalone=\"no\"?>\n<!DOCTYPE svg PUBLIC \"-//W3C//DTD SVG 1.1//EN\"\n \"http://www.w3.org/Graphics/SVG/1.1/DTD/svg11.dtd\">\n<!-- Generated by graphviz version 2.40.1 (20161225.0304)\n -->\n<!-- Title: Tree Pages: 1 -->\n<svg width=\"1636pt\" height=\"520pt\"\n viewBox=\"0.00 0.00 1636.00 520.00\" xmlns=\"http://www.w3.org/2000/svg\" xmlns:xlink=\"http://www.w3.org/1999/xlink\">\n<g id=\"graph0\" class=\"graph\" transform=\"scale(1 1) rotate(0) translate(4 516)\">\n<title>Tree</title>\n<polygon fill=\"#ffffff\" stroke=\"transparent\" points=\"-4,4 -4,-516 1632,-516 1632,4 -4,4\"/>\n<!-- 0 -->\n<g id=\"node1\" class=\"node\">\n<title>0</title>\n<polygon fill=\"#ffffff\" stroke=\"#000000\" points=\"915,-512 769,-512 769,-429 915,-429 915,-512\"/>\n<text text-anchor=\"middle\" x=\"842\" y=\"-496.8\" font-family=\"Helvetica,sans-Serif\" font-size=\"14.00\" fill=\"#000000\">Elevation &lt;= 2744.5</text>\n<text text-anchor=\"middle\" x=\"842\" y=\"-481.8\" font-family=\"Helvetica,sans-Serif\" font-size=\"14.00\" fill=\"#000000\">entropy = 1.0</text>\n<text text-anchor=\"middle\" x=\"842\" y=\"-466.8\" font-family=\"Helvetica,sans-Serif\" font-size=\"14.00\" fill=\"#000000\">samples = 100.0%</text>\n<text text-anchor=\"middle\" x=\"842\" y=\"-451.8\" font-family=\"Helvetica,sans-Serif\" font-size=\"14.00\" fill=\"#000000\">value = [0.5, 0.5]</text>\n<text text-anchor=\"middle\" x=\"842\" y=\"-436.8\" font-family=\"Helvetica,sans-Serif\" font-size=\"14.00\" fill=\"#000000\">class = yes</text>\n</g>\n<!-- 1 -->\n<g id=\"node2\" class=\"node\">\n<title>1</title>\n<polygon fill=\"#5fb0ea\" stroke=\"#000000\" points=\"737,-393 581,-393 581,-310 737,-310 737,-393\"/>\n<text text-anchor=\"middle\" x=\"659\" y=\"-377.8\" font-family=\"Helvetica,sans-Serif\" font-size=\"14.00\" fill=\"#000000\">Elevation &lt;= 2637.5</text>\n<text text-anchor=\"middle\" x=\"659\" y=\"-362.8\" font-family=\"Helvetica,sans-Serif\" font-size=\"14.00\" fill=\"#000000\">entropy = 0.633</text>\n<text text-anchor=\"middle\" x=\"659\" y=\"-347.8\" font-family=\"Helvetica,sans-Serif\" font-size=\"14.00\" fill=\"#000000\">samples = 28.2%</text>\n<text text-anchor=\"middle\" x=\"659\" y=\"-332.8\" font-family=\"Helvetica,sans-Serif\" font-size=\"14.00\" fill=\"#000000\">value = [0.159, 0.841]</text>\n<text text-anchor=\"middle\" x=\"659\" y=\"-317.8\" font-family=\"Helvetica,sans-Serif\" font-size=\"14.00\" fill=\"#000000\">class = no</text>\n</g>\n<!-- 0&#45;&gt;1 -->\n<g id=\"edge1\" class=\"edge\">\n<title>0&#45;&gt;1</title>\n<path fill=\"none\" stroke=\"#000000\" d=\"M777.9955,-428.8796C762.9505,-419.0962 746.8121,-408.6019 731.4267,-398.5971\"/>\n<polygon fill=\"#000000\" stroke=\"#000000\" points=\"733.2598,-395.6143 722.9684,-393.0969 729.4437,-401.4827 733.2598,-395.6143\"/>\n<text text-anchor=\"middle\" x=\"728.1513\" y=\"-413.8538\" font-family=\"Helvetica,sans-Serif\" font-size=\"14.00\" fill=\"#000000\">True</text>\n</g>\n<!-- 4596 -->\n<g id=\"node17\" class=\"node\">\n<title>4596</title>\n<polygon fill=\"#e6853f\" stroke=\"#000000\" points=\"1096,-393 940,-393 940,-310 1096,-310 1096,-393\"/>\n<text text-anchor=\"middle\" x=\"1018\" y=\"-377.8\" font-family=\"Helvetica,sans-Serif\" font-size=\"14.00\" fill=\"#000000\">Elevation &lt;= 2879.5</text>\n<text text-anchor=\"middle\" x=\"1018\" y=\"-362.8\" font-family=\"Helvetica,sans-Serif\" font-size=\"14.00\" fill=\"#000000\">entropy = 0.189</text>\n<text text-anchor=\"middle\" x=\"1018\" y=\"-347.8\" font-family=\"Helvetica,sans-Serif\" font-size=\"14.00\" fill=\"#000000\">samples = 71.8%</text>\n<text text-anchor=\"middle\" x=\"1018\" y=\"-332.8\" font-family=\"Helvetica,sans-Serif\" font-size=\"14.00\" fill=\"#000000\">value = [0.971, 0.029]</text>\n<text text-anchor=\"middle\" x=\"1018\" y=\"-317.8\" font-family=\"Helvetica,sans-Serif\" font-size=\"14.00\" fill=\"#000000\">class = yes</text>\n</g>\n<!-- 0&#45;&gt;4596 -->\n<g id=\"edge16\" class=\"edge\">\n<title>0&#45;&gt;4596</title>\n<path fill=\"none\" stroke=\"#000000\" d=\"M903.5563,-428.8796C917.8918,-419.1868 933.2595,-408.7961 947.9325,-398.8752\"/>\n<polygon fill=\"#000000\" stroke=\"#000000\" points=\"950.1548,-401.5976 956.4785,-393.0969 946.2339,-395.7987 950.1548,-401.5976\"/>\n<text text-anchor=\"middle\" x=\"951.7357\" y=\"-413.9429\" font-family=\"Helvetica,sans-Serif\" font-size=\"14.00\" fill=\"#000000\">False</text>\n</g>\n<!-- 2 -->\n<g id=\"node3\" class=\"node\">\n<title>2</title>\n<polygon fill=\"#54aae8\" stroke=\"#000000\" points=\"472,-274 316,-274 316,-191 472,-191 472,-274\"/>\n<text text-anchor=\"middle\" x=\"394\" y=\"-258.8\" font-family=\"Helvetica,sans-Serif\" font-size=\"14.00\" fill=\"#000000\">Elevation &lt;= 2482.5</text>\n<text text-anchor=\"middle\" x=\"394\" y=\"-243.8\" font-family=\"Helvetica,sans-Serif\" font-size=\"14.00\" fill=\"#000000\">entropy = 0.524</text>\n<text text-anchor=\"middle\" x=\"394\" y=\"-228.8\" font-family=\"Helvetica,sans-Serif\" font-size=\"14.00\" fill=\"#000000\">samples = 21.6%</text>\n<text text-anchor=\"middle\" x=\"394\" y=\"-213.8\" font-family=\"Helvetica,sans-Serif\" font-size=\"14.00\" fill=\"#000000\">value = [0.118, 0.882]</text>\n<text text-anchor=\"middle\" x=\"394\" y=\"-198.8\" font-family=\"Helvetica,sans-Serif\" font-size=\"14.00\" fill=\"#000000\">class = no</text>\n</g>\n<!-- 1&#45;&gt;2 -->\n<g id=\"edge2\" class=\"edge\">\n<title>1&#45;&gt;2</title>\n<path fill=\"none\" stroke=\"#000000\" d=\"M580.9246,-316.4397C549.7984,-302.4623 513.8223,-286.307 481.794,-271.9245\"/>\n<polygon fill=\"#000000\" stroke=\"#000000\" points=\"482.9894,-268.6246 472.4331,-267.7209 480.1218,-275.0103 482.9894,-268.6246\"/>\n</g>\n<!-- 3995 -->\n<g id=\"node10\" class=\"node\">\n<title>3995</title>\n<polygon fill=\"#deeefb\" stroke=\"#000000\" points=\"737,-274 581,-274 581,-191 737,-191 737,-274\"/>\n<text text-anchor=\"middle\" x=\"659\" y=\"-258.8\" font-family=\"Helvetica,sans-Serif\" font-size=\"14.00\" fill=\"#000000\">Soil_Type &lt;= 14.0</text>\n<text text-anchor=\"middle\" x=\"659\" y=\"-243.8\" font-family=\"Helvetica,sans-Serif\" font-size=\"14.00\" fill=\"#000000\">entropy = 0.994</text>\n<text text-anchor=\"middle\" x=\"659\" y=\"-228.8\" font-family=\"Helvetica,sans-Serif\" font-size=\"14.00\" fill=\"#000000\">samples = 6.6%</text>\n<text text-anchor=\"middle\" x=\"659\" y=\"-213.8\" font-family=\"Helvetica,sans-Serif\" font-size=\"14.00\" fill=\"#000000\">value = [0.454, 0.546]</text>\n<text text-anchor=\"middle\" x=\"659\" y=\"-198.8\" font-family=\"Helvetica,sans-Serif\" font-size=\"14.00\" fill=\"#000000\">class = no</text>\n</g>\n<!-- 1&#45;&gt;3995 -->\n<g id=\"edge9\" class=\"edge\">\n<title>1&#45;&gt;3995</title>\n<path fill=\"none\" stroke=\"#000000\" d=\"M659,-309.8796C659,-301.6838 659,-292.9891 659,-284.5013\"/>\n<polygon fill=\"#000000\" stroke=\"#000000\" points=\"662.5001,-284.298 659,-274.2981 655.5001,-284.2981 662.5001,-284.298\"/>\n</g>\n<!-- 3 -->\n<g id=\"node4\" class=\"node\">\n<title>3</title>\n<polygon fill=\"#4ca6e7\" stroke=\"#000000\" points=\"298,-155 0,-155 0,-72 298,-72 298,-155\"/>\n<text text-anchor=\"middle\" x=\"149\" y=\"-139.8\" font-family=\"Helvetica,sans-Serif\" font-size=\"14.00\" fill=\"#000000\">Horizontal_Distance_To_Hydrology &lt;= 15.0</text>\n<text text-anchor=\"middle\" x=\"149\" y=\"-124.8\" font-family=\"Helvetica,sans-Serif\" font-size=\"14.00\" fill=\"#000000\">entropy = 0.427</text>\n<text text-anchor=\"middle\" x=\"149\" y=\"-109.8\" font-family=\"Helvetica,sans-Serif\" font-size=\"14.00\" fill=\"#000000\">samples = 13.3%</text>\n<text text-anchor=\"middle\" x=\"149\" y=\"-94.8\" font-family=\"Helvetica,sans-Serif\" font-size=\"14.00\" fill=\"#000000\">value = [0.087, 0.913]</text>\n<text text-anchor=\"middle\" x=\"149\" y=\"-79.8\" font-family=\"Helvetica,sans-Serif\" font-size=\"14.00\" fill=\"#000000\">class = no</text>\n</g>\n<!-- 2&#45;&gt;3 -->\n<g id=\"edge3\" class=\"edge\">\n<title>2&#45;&gt;3</title>\n<path fill=\"none\" stroke=\"#000000\" d=\"M315.8069,-194.5205C292.8341,-183.3623 267.4588,-171.0371 243.5787,-159.4382\"/>\n<polygon fill=\"#000000\" stroke=\"#000000\" points=\"245.032,-156.2531 234.5077,-155.0323 241.9736,-162.5497 245.032,-156.2531\"/>\n</g>\n<!-- 2464 -->\n<g id=\"node7\" class=\"node\">\n<title>2464</title>\n<polygon fill=\"#67b4eb\" stroke=\"#000000\" points=\"472,-155 316,-155 316,-72 472,-72 472,-155\"/>\n<text text-anchor=\"middle\" x=\"394\" y=\"-139.8\" font-family=\"Helvetica,sans-Serif\" font-size=\"14.00\" fill=\"#000000\">Soil_Type &lt;= 7.5</text>\n<text text-anchor=\"middle\" x=\"394\" y=\"-124.8\" font-family=\"Helvetica,sans-Serif\" font-size=\"14.00\" fill=\"#000000\">entropy = 0.697</text>\n<text text-anchor=\"middle\" x=\"394\" y=\"-109.8\" font-family=\"Helvetica,sans-Serif\" font-size=\"14.00\" fill=\"#000000\">samples = 8.3%</text>\n<text text-anchor=\"middle\" x=\"394\" y=\"-94.8\" font-family=\"Helvetica,sans-Serif\" font-size=\"14.00\" fill=\"#000000\">value = [0.188, 0.812]</text>\n<text text-anchor=\"middle\" x=\"394\" y=\"-79.8\" font-family=\"Helvetica,sans-Serif\" font-size=\"14.00\" fill=\"#000000\">class = no</text>\n</g>\n<!-- 2&#45;&gt;2464 -->\n<g id=\"edge6\" class=\"edge\">\n<title>2&#45;&gt;2464</title>\n<path fill=\"none\" stroke=\"#000000\" d=\"M394,-190.8796C394,-182.6838 394,-173.9891 394,-165.5013\"/>\n<polygon fill=\"#000000\" stroke=\"#000000\" points=\"397.5001,-165.298 394,-155.2981 390.5001,-165.2981 397.5001,-165.298\"/>\n</g>\n<!-- 4 -->\n<g id=\"node5\" class=\"node\">\n<title>4</title>\n<polygon fill=\"#c0c0c0\" stroke=\"#000000\" points=\"140,-36 86,-36 86,0 140,0 140,-36\"/>\n<text text-anchor=\"middle\" x=\"113\" y=\"-14.3\" font-family=\"Helvetica,sans-Serif\" font-size=\"14.00\" fill=\"#000000\">(...)</text>\n</g>\n<!-- 3&#45;&gt;4 -->\n<g id=\"edge4\" class=\"edge\">\n<title>3&#45;&gt;4</title>\n<path fill=\"none\" stroke=\"#000000\" d=\"M133.3146,-71.8901C129.9739,-63.0279 126.525,-53.8788 123.4386,-45.6913\"/>\n<polygon fill=\"#000000\" stroke=\"#000000\" points=\"126.6877,-44.3878 119.8853,-36.2651 120.1376,-46.8569 126.6877,-44.3878\"/>\n</g>\n<!-- 439 -->\n<g id=\"node6\" class=\"node\">\n<title>439</title>\n<polygon fill=\"#c0c0c0\" stroke=\"#000000\" points=\"212,-36 158,-36 158,0 212,0 212,-36\"/>\n<text text-anchor=\"middle\" x=\"185\" y=\"-14.3\" font-family=\"Helvetica,sans-Serif\" font-size=\"14.00\" fill=\"#000000\">(...)</text>\n</g>\n<!-- 3&#45;&gt;439 -->\n<g id=\"edge5\" class=\"edge\">\n<title>3&#45;&gt;439</title>\n<path fill=\"none\" stroke=\"#000000\" d=\"M164.6854,-71.8901C168.0261,-63.0279 171.475,-53.8788 174.5614,-45.6913\"/>\n<polygon fill=\"#000000\" stroke=\"#000000\" points=\"177.8624,-46.8569 178.1147,-36.2651 171.3123,-44.3878 177.8624,-46.8569\"/>\n</g>\n<!-- 2465 -->\n<g id=\"node8\" class=\"node\">\n<title>2465</title>\n<polygon fill=\"#c0c0c0\" stroke=\"#000000\" points=\"364,-36 310,-36 310,0 364,0 364,-36\"/>\n<text text-anchor=\"middle\" x=\"337\" y=\"-14.3\" font-family=\"Helvetica,sans-Serif\" font-size=\"14.00\" fill=\"#000000\">(...)</text>\n</g>\n<!-- 2464&#45;&gt;2465 -->\n<g id=\"edge7\" class=\"edge\">\n<title>2464&#45;&gt;2465</title>\n<path fill=\"none\" stroke=\"#000000\" d=\"M369.1648,-71.8901C363.7009,-62.7357 358.0543,-53.2752 353.0464,-44.8847\"/>\n<polygon fill=\"#000000\" stroke=\"#000000\" points=\"356.0322,-43.0581 347.9017,-36.2651 350.0215,-46.6457 356.0322,-43.0581\"/>\n</g>\n<!-- 3122 -->\n<g id=\"node9\" class=\"node\">\n<title>3122</title>\n<polygon fill=\"#c0c0c0\" stroke=\"#000000\" points=\"436,-36 382,-36 382,0 436,0 436,-36\"/>\n<text text-anchor=\"middle\" x=\"409\" y=\"-14.3\" font-family=\"Helvetica,sans-Serif\" font-size=\"14.00\" fill=\"#000000\">(...)</text>\n</g>\n<!-- 2464&#45;&gt;3122 -->\n<g id=\"edge8\" class=\"edge\">\n<title>2464&#45;&gt;3122</title>\n<path fill=\"none\" stroke=\"#000000\" d=\"M400.5356,-71.8901C401.897,-63.2227 403.3014,-54.2808 404.5656,-46.2325\"/>\n<polygon fill=\"#000000\" stroke=\"#000000\" points=\"408.037,-46.6871 406.1311,-36.2651 401.1218,-45.6009 408.037,-46.6871\"/>\n</g>\n<!-- 3996 -->\n<g id=\"node11\" class=\"node\">\n<title>3996</title>\n<polygon fill=\"#b8dcf6\" stroke=\"#000000\" points=\"646,-155 490,-155 490,-72 646,-72 646,-155\"/>\n<text text-anchor=\"middle\" x=\"568\" y=\"-139.8\" font-family=\"Helvetica,sans-Serif\" font-size=\"14.00\" fill=\"#000000\">Soil_Type &lt;= 7.5</text>\n<text text-anchor=\"middle\" x=\"568\" y=\"-124.8\" font-family=\"Helvetica,sans-Serif\" font-size=\"14.00\" fill=\"#000000\">entropy = 0.966</text>\n<text text-anchor=\"middle\" x=\"568\" y=\"-109.8\" font-family=\"Helvetica,sans-Serif\" font-size=\"14.00\" fill=\"#000000\">samples = 5.3%</text>\n<text text-anchor=\"middle\" x=\"568\" y=\"-94.8\" font-family=\"Helvetica,sans-Serif\" font-size=\"14.00\" fill=\"#000000\">value = [0.392, 0.608]</text>\n<text text-anchor=\"middle\" x=\"568\" y=\"-79.8\" font-family=\"Helvetica,sans-Serif\" font-size=\"14.00\" fill=\"#000000\">class = no</text>\n</g>\n<!-- 3995&#45;&gt;3996 -->\n<g id=\"edge10\" class=\"edge\">\n<title>3995&#45;&gt;3996</title>\n<path fill=\"none\" stroke=\"#000000\" d=\"M627.1726,-190.8796C620.3543,-181.9633 613.0844,-172.4565 606.0579,-163.268\"/>\n<polygon fill=\"#000000\" stroke=\"#000000\" points=\"608.818,-161.1156 599.9632,-155.2981 603.2575,-165.3678 608.818,-161.1156\"/>\n</g>\n<!-- 4589 -->\n<g id=\"node14\" class=\"node\">\n<title>4589</title>\n<polygon fill=\"#e5833c\" stroke=\"#000000\" points=\"838,-155 664,-155 664,-72 838,-72 838,-155\"/>\n<text text-anchor=\"middle\" x=\"751\" y=\"-139.8\" font-family=\"Helvetica,sans-Serif\" font-size=\"14.00\" fill=\"#000000\">Hillshade_9am &lt;= 251.5</text>\n<text text-anchor=\"middle\" x=\"751\" y=\"-124.8\" font-family=\"Helvetica,sans-Serif\" font-size=\"14.00\" fill=\"#000000\">entropy = 0.122</text>\n<text text-anchor=\"middle\" x=\"751\" y=\"-109.8\" font-family=\"Helvetica,sans-Serif\" font-size=\"14.00\" fill=\"#000000\">samples = 1.3%</text>\n<text text-anchor=\"middle\" x=\"751\" y=\"-94.8\" font-family=\"Helvetica,sans-Serif\" font-size=\"14.00\" fill=\"#000000\">value = [0.983, 0.017]</text>\n<text text-anchor=\"middle\" x=\"751\" y=\"-79.8\" font-family=\"Helvetica,sans-Serif\" font-size=\"14.00\" fill=\"#000000\">class = yes</text>\n</g>\n<!-- 3995&#45;&gt;4589 -->\n<g id=\"edge13\" class=\"edge\">\n<title>3995&#45;&gt;4589</title>\n<path fill=\"none\" stroke=\"#000000\" d=\"M691.1771,-190.8796C698.0704,-181.9633 705.4202,-172.4565 712.5239,-163.268\"/>\n<polygon fill=\"#000000\" stroke=\"#000000\" points=\"715.3381,-165.3502 718.6855,-155.2981 709.8001,-161.0687 715.3381,-165.3502\"/>\n</g>\n<!-- 3997 -->\n<g id=\"node12\" class=\"node\">\n<title>3997</title>\n<polygon fill=\"#c0c0c0\" stroke=\"#000000\" points=\"542,-36 488,-36 488,0 542,0 542,-36\"/>\n<text text-anchor=\"middle\" x=\"515\" y=\"-14.3\" font-family=\"Helvetica,sans-Serif\" font-size=\"14.00\" fill=\"#000000\">(...)</text>\n</g>\n<!-- 3996&#45;&gt;3997 -->\n<g id=\"edge11\" class=\"edge\">\n<title>3996&#45;&gt;3997</title>\n<path fill=\"none\" stroke=\"#000000\" d=\"M544.9076,-71.8901C539.8812,-62.8331 534.6885,-53.4765 530.0691,-45.1528\"/>\n<polygon fill=\"#000000\" stroke=\"#000000\" points=\"533.0496,-43.3104 525.1367,-36.2651 526.9289,-46.7073 533.0496,-43.3104\"/>\n</g>\n<!-- 4280 -->\n<g id=\"node13\" class=\"node\">\n<title>4280</title>\n<polygon fill=\"#c0c0c0\" stroke=\"#000000\" points=\"614,-36 560,-36 560,0 614,0 614,-36\"/>\n<text text-anchor=\"middle\" x=\"587\" y=\"-14.3\" font-family=\"Helvetica,sans-Serif\" font-size=\"14.00\" fill=\"#000000\">(...)</text>\n</g>\n<!-- 3996&#45;&gt;4280 -->\n<g id=\"edge12\" class=\"edge\">\n<title>3996&#45;&gt;4280</title>\n<path fill=\"none\" stroke=\"#000000\" d=\"M576.2784,-71.8901C578.0028,-63.2227 579.7818,-54.2808 581.3831,-46.2325\"/>\n<polygon fill=\"#000000\" stroke=\"#000000\" points=\"584.8475,-46.7559 583.3661,-36.2651 577.982,-45.3899 584.8475,-46.7559\"/>\n</g>\n<!-- 4590 -->\n<g id=\"node15\" class=\"node\">\n<title>4590</title>\n<polygon fill=\"#c0c0c0\" stroke=\"#000000\" points=\"725,-36 671,-36 671,0 725,0 725,-36\"/>\n<text text-anchor=\"middle\" x=\"698\" y=\"-14.3\" font-family=\"Helvetica,sans-Serif\" font-size=\"14.00\" fill=\"#000000\">(...)</text>\n</g>\n<!-- 4589&#45;&gt;4590 -->\n<g id=\"edge14\" class=\"edge\">\n<title>4589&#45;&gt;4590</title>\n<path fill=\"none\" stroke=\"#000000\" d=\"M727.9076,-71.8901C722.8812,-62.8331 717.6885,-53.4765 713.0691,-45.1528\"/>\n<polygon fill=\"#000000\" stroke=\"#000000\" points=\"716.0496,-43.3104 708.1367,-36.2651 709.9289,-46.7073 716.0496,-43.3104\"/>\n</g>\n<!-- 4591 -->\n<g id=\"node16\" class=\"node\">\n<title>4591</title>\n<polygon fill=\"#c0c0c0\" stroke=\"#000000\" points=\"797,-36 743,-36 743,0 797,0 797,-36\"/>\n<text text-anchor=\"middle\" x=\"770\" y=\"-14.3\" font-family=\"Helvetica,sans-Serif\" font-size=\"14.00\" fill=\"#000000\">(...)</text>\n</g>\n<!-- 4589&#45;&gt;4591 -->\n<g id=\"edge15\" class=\"edge\">\n<title>4589&#45;&gt;4591</title>\n<path fill=\"none\" stroke=\"#000000\" d=\"M759.2784,-71.8901C761.0028,-63.2227 762.7818,-54.2808 764.3831,-46.2325\"/>\n<polygon fill=\"#000000\" stroke=\"#000000\" points=\"767.8475,-46.7559 766.3661,-36.2651 760.982,-45.3899 767.8475,-46.7559\"/>\n</g>\n<!-- 4597 -->\n<g id=\"node18\" class=\"node\">\n<title>4597</title>\n<polygon fill=\"#e9975b\" stroke=\"#000000\" points=\"1096,-274 940,-274 940,-191 1096,-191 1096,-274\"/>\n<text text-anchor=\"middle\" x=\"1018\" y=\"-258.8\" font-family=\"Helvetica,sans-Serif\" font-size=\"14.00\" fill=\"#000000\">Soil_Type &lt;= 14.0</text>\n<text text-anchor=\"middle\" x=\"1018\" y=\"-243.8\" font-family=\"Helvetica,sans-Serif\" font-size=\"14.00\" fill=\"#000000\">entropy = 0.601</text>\n<text text-anchor=\"middle\" x=\"1018\" y=\"-228.8\" font-family=\"Helvetica,sans-Serif\" font-size=\"14.00\" fill=\"#000000\">samples = 12.6%</text>\n<text text-anchor=\"middle\" x=\"1018\" y=\"-213.8\" font-family=\"Helvetica,sans-Serif\" font-size=\"14.00\" fill=\"#000000\">value = [0.853, 0.147]</text>\n<text text-anchor=\"middle\" x=\"1018\" y=\"-198.8\" font-family=\"Helvetica,sans-Serif\" font-size=\"14.00\" fill=\"#000000\">class = yes</text>\n</g>\n<!-- 4596&#45;&gt;4597 -->\n<g id=\"edge17\" class=\"edge\">\n<title>4596&#45;&gt;4597</title>\n<path fill=\"none\" stroke=\"#000000\" d=\"M1018,-309.8796C1018,-301.6838 1018,-292.9891 1018,-284.5013\"/>\n<polygon fill=\"#000000\" stroke=\"#000000\" points=\"1021.5001,-284.298 1018,-274.2981 1014.5001,-284.2981 1021.5001,-284.298\"/>\n</g>\n<!-- 4874 -->\n<g id=\"node25\" class=\"node\">\n<title>4874</title>\n<polygon fill=\"#e58139\" stroke=\"#000000\" points=\"1411,-274 1265,-274 1265,-191 1411,-191 1411,-274\"/>\n<text text-anchor=\"middle\" x=\"1338\" y=\"-258.8\" font-family=\"Helvetica,sans-Serif\" font-size=\"14.00\" fill=\"#000000\">Elevation &lt;= 2899.5</text>\n<text text-anchor=\"middle\" x=\"1338\" y=\"-243.8\" font-family=\"Helvetica,sans-Serif\" font-size=\"14.00\" fill=\"#000000\">entropy = 0.004</text>\n<text text-anchor=\"middle\" x=\"1338\" y=\"-228.8\" font-family=\"Helvetica,sans-Serif\" font-size=\"14.00\" fill=\"#000000\">samples = 59.1%</text>\n<text text-anchor=\"middle\" x=\"1338\" y=\"-213.8\" font-family=\"Helvetica,sans-Serif\" font-size=\"14.00\" fill=\"#000000\">value = [1.0, 0.0]</text>\n<text text-anchor=\"middle\" x=\"1338\" y=\"-198.8\" font-family=\"Helvetica,sans-Serif\" font-size=\"14.00\" fill=\"#000000\">class = yes</text>\n</g>\n<!-- 4596&#45;&gt;4874 -->\n<g id=\"edge24\" class=\"edge\">\n<title>4596&#45;&gt;4874</title>\n<path fill=\"none\" stroke=\"#000000\" d=\"M1096.2808,-322.3893C1144.5043,-304.4562 1206.2661,-281.4885 1255.2879,-263.2586\"/>\n<polygon fill=\"#000000\" stroke=\"#000000\" points=\"1256.7617,-266.4447 1264.9146,-259.6786 1254.3218,-259.8837 1256.7617,-266.4447\"/>\n</g>\n<!-- 4598 -->\n<g id=\"node19\" class=\"node\">\n<title>4598</title>\n<polygon fill=\"#eca46f\" stroke=\"#000000\" points=\"1012,-155 856,-155 856,-72 1012,-72 1012,-155\"/>\n<text text-anchor=\"middle\" x=\"934\" y=\"-139.8\" font-family=\"Helvetica,sans-Serif\" font-size=\"14.00\" fill=\"#000000\">Soil_Type &lt;= 12.5</text>\n<text text-anchor=\"middle\" x=\"934\" y=\"-124.8\" font-family=\"Helvetica,sans-Serif\" font-size=\"14.00\" fill=\"#000000\">entropy = 0.751</text>\n<text text-anchor=\"middle\" x=\"934\" y=\"-109.8\" font-family=\"Helvetica,sans-Serif\" font-size=\"14.00\" fill=\"#000000\">samples = 8.0%</text>\n<text text-anchor=\"middle\" x=\"934\" y=\"-94.8\" font-family=\"Helvetica,sans-Serif\" font-size=\"14.00\" fill=\"#000000\">value = [0.785, 0.215]</text>\n<text text-anchor=\"middle\" x=\"934\" y=\"-79.8\" font-family=\"Helvetica,sans-Serif\" font-size=\"14.00\" fill=\"#000000\">class = yes</text>\n</g>\n<!-- 4597&#45;&gt;4598 -->\n<g id=\"edge18\" class=\"edge\">\n<title>4597&#45;&gt;4598</title>\n<path fill=\"none\" stroke=\"#000000\" d=\"M988.6209,-190.8796C982.3906,-182.0534 975.7519,-172.6485 969.327,-163.5466\"/>\n<polygon fill=\"#000000\" stroke=\"#000000\" points=\"972.1308,-161.4494 963.5045,-155.2981 966.412,-165.4862 972.1308,-161.4494\"/>\n</g>\n<!-- 4871 -->\n<g id=\"node22\" class=\"node\">\n<title>4871</title>\n<polygon fill=\"#e58139\" stroke=\"#000000\" points=\"1176,-155 1030,-155 1030,-72 1176,-72 1176,-155\"/>\n<text text-anchor=\"middle\" x=\"1103\" y=\"-139.8\" font-family=\"Helvetica,sans-Serif\" font-size=\"14.00\" fill=\"#000000\">Elevation &lt;= 2745.5</text>\n<text text-anchor=\"middle\" x=\"1103\" y=\"-124.8\" font-family=\"Helvetica,sans-Serif\" font-size=\"14.00\" fill=\"#000000\">entropy = 0.0</text>\n<text text-anchor=\"middle\" x=\"1103\" y=\"-109.8\" font-family=\"Helvetica,sans-Serif\" font-size=\"14.00\" fill=\"#000000\">samples = 4.6%</text>\n<text text-anchor=\"middle\" x=\"1103\" y=\"-94.8\" font-family=\"Helvetica,sans-Serif\" font-size=\"14.00\" fill=\"#000000\">value = [1.0, 0.0]</text>\n<text text-anchor=\"middle\" x=\"1103\" y=\"-79.8\" font-family=\"Helvetica,sans-Serif\" font-size=\"14.00\" fill=\"#000000\">class = yes</text>\n</g>\n<!-- 4597&#45;&gt;4871 -->\n<g id=\"edge21\" class=\"edge\">\n<title>4597&#45;&gt;4871</title>\n<path fill=\"none\" stroke=\"#000000\" d=\"M1047.7289,-190.8796C1054.0333,-182.0534 1060.751,-172.6485 1067.2524,-163.5466\"/>\n<polygon fill=\"#000000\" stroke=\"#000000\" points=\"1070.1799,-165.4698 1073.1442,-155.2981 1064.4837,-161.4011 1070.1799,-165.4698\"/>\n</g>\n<!-- 4599 -->\n<g id=\"node20\" class=\"node\">\n<title>4599</title>\n<polygon fill=\"#c0c0c0\" stroke=\"#000000\" points=\"901,-36 847,-36 847,0 901,0 901,-36\"/>\n<text text-anchor=\"middle\" x=\"874\" y=\"-14.3\" font-family=\"Helvetica,sans-Serif\" font-size=\"14.00\" fill=\"#000000\">(...)</text>\n</g>\n<!-- 4598&#45;&gt;4599 -->\n<g id=\"edge19\" class=\"edge\">\n<title>4598&#45;&gt;4599</title>\n<path fill=\"none\" stroke=\"#000000\" d=\"M907.8577,-71.8901C902.1062,-62.7357 896.1624,-53.2752 890.8909,-44.8847\"/>\n<polygon fill=\"#000000\" stroke=\"#000000\" points=\"893.759,-42.8706 885.4755,-36.2651 887.8318,-46.5946 893.759,-42.8706\"/>\n</g>\n<!-- 4856 -->\n<g id=\"node21\" class=\"node\">\n<title>4856</title>\n<polygon fill=\"#c0c0c0\" stroke=\"#000000\" points=\"973,-36 919,-36 919,0 973,0 973,-36\"/>\n<text text-anchor=\"middle\" x=\"946\" y=\"-14.3\" font-family=\"Helvetica,sans-Serif\" font-size=\"14.00\" fill=\"#000000\">(...)</text>\n</g>\n<!-- 4598&#45;&gt;4856 -->\n<g id=\"edge20\" class=\"edge\">\n<title>4598&#45;&gt;4856</title>\n<path fill=\"none\" stroke=\"#000000\" d=\"M939.2285,-71.8901C940.3176,-63.2227 941.4412,-54.2808 942.4525,-46.2325\"/>\n<polygon fill=\"#000000\" stroke=\"#000000\" points=\"945.9308,-46.6235 943.7049,-36.2651 938.9854,-45.7507 945.9308,-46.6235\"/>\n</g>\n<!-- 4872 -->\n<g id=\"node23\" class=\"node\">\n<title>4872</title>\n<polygon fill=\"#c0c0c0\" stroke=\"#000000\" points=\"1094,-36 1040,-36 1040,0 1094,0 1094,-36\"/>\n<text text-anchor=\"middle\" x=\"1067\" y=\"-14.3\" font-family=\"Helvetica,sans-Serif\" font-size=\"14.00\" fill=\"#000000\">(...)</text>\n</g>\n<!-- 4871&#45;&gt;4872 -->\n<g id=\"edge22\" class=\"edge\">\n<title>4871&#45;&gt;4872</title>\n<path fill=\"none\" stroke=\"#000000\" d=\"M1087.3146,-71.8901C1083.9739,-63.0279 1080.525,-53.8788 1077.4386,-45.6913\"/>\n<polygon fill=\"#000000\" stroke=\"#000000\" points=\"1080.6877,-44.3878 1073.8853,-36.2651 1074.1376,-46.8569 1080.6877,-44.3878\"/>\n</g>\n<!-- 4873 -->\n<g id=\"node24\" class=\"node\">\n<title>4873</title>\n<polygon fill=\"#c0c0c0\" stroke=\"#000000\" points=\"1166,-36 1112,-36 1112,0 1166,0 1166,-36\"/>\n<text text-anchor=\"middle\" x=\"1139\" y=\"-14.3\" font-family=\"Helvetica,sans-Serif\" font-size=\"14.00\" fill=\"#000000\">(...)</text>\n</g>\n<!-- 4871&#45;&gt;4873 -->\n<g id=\"edge23\" class=\"edge\">\n<title>4871&#45;&gt;4873</title>\n<path fill=\"none\" stroke=\"#000000\" d=\"M1118.6854,-71.8901C1122.0261,-63.0279 1125.475,-53.8788 1128.5614,-45.6913\"/>\n<polygon fill=\"#000000\" stroke=\"#000000\" points=\"1131.8624,-46.8569 1132.1147,-36.2651 1125.3123,-44.3878 1131.8624,-46.8569\"/>\n</g>\n<!-- 4875 -->\n<g id=\"node26\" class=\"node\">\n<title>4875</title>\n<polygon fill=\"#e5823a\" stroke=\"#000000\" points=\"1482,-155 1194,-155 1194,-72 1482,-72 1482,-155\"/>\n<text text-anchor=\"middle\" x=\"1338\" y=\"-139.8\" font-family=\"Helvetica,sans-Serif\" font-size=\"14.00\" fill=\"#000000\">Vertical_Distance_To_Hydrology &lt;= 251.5</text>\n<text text-anchor=\"middle\" x=\"1338\" y=\"-124.8\" font-family=\"Helvetica,sans-Serif\" font-size=\"14.00\" fill=\"#000000\">entropy = 0.061</text>\n<text text-anchor=\"middle\" x=\"1338\" y=\"-109.8\" font-family=\"Helvetica,sans-Serif\" font-size=\"14.00\" fill=\"#000000\">samples = 2.4%</text>\n<text text-anchor=\"middle\" x=\"1338\" y=\"-94.8\" font-family=\"Helvetica,sans-Serif\" font-size=\"14.00\" fill=\"#000000\">value = [0.993, 0.007]</text>\n<text text-anchor=\"middle\" x=\"1338\" y=\"-79.8\" font-family=\"Helvetica,sans-Serif\" font-size=\"14.00\" fill=\"#000000\">class = yes</text>\n</g>\n<!-- 4874&#45;&gt;4875 -->\n<g id=\"edge25\" class=\"edge\">\n<title>4874&#45;&gt;4875</title>\n<path fill=\"none\" stroke=\"#000000\" d=\"M1338,-190.8796C1338,-182.6838 1338,-173.9891 1338,-165.5013\"/>\n<polygon fill=\"#000000\" stroke=\"#000000\" points=\"1341.5001,-165.298 1338,-155.2981 1334.5001,-165.2981 1341.5001,-165.298\"/>\n</g>\n<!-- 4888 -->\n<g id=\"node29\" class=\"node\">\n<title>4888</title>\n<polygon fill=\"#e58139\" stroke=\"#000000\" points=\"1628,-147.5 1500,-147.5 1500,-79.5 1628,-79.5 1628,-147.5\"/>\n<text text-anchor=\"middle\" x=\"1564\" y=\"-132.3\" font-family=\"Helvetica,sans-Serif\" font-size=\"14.00\" fill=\"#000000\">entropy = 0.0</text>\n<text text-anchor=\"middle\" x=\"1564\" y=\"-117.3\" font-family=\"Helvetica,sans-Serif\" font-size=\"14.00\" fill=\"#000000\">samples = 56.7%</text>\n<text text-anchor=\"middle\" x=\"1564\" y=\"-102.3\" font-family=\"Helvetica,sans-Serif\" font-size=\"14.00\" fill=\"#000000\">value = [1.0, 0.0]</text>\n<text text-anchor=\"middle\" x=\"1564\" y=\"-87.3\" font-family=\"Helvetica,sans-Serif\" font-size=\"14.00\" fill=\"#000000\">class = yes</text>\n</g>\n<!-- 4874&#45;&gt;4888 -->\n<g id=\"edge28\" class=\"edge\">\n<title>4874&#45;&gt;4888</title>\n<path fill=\"none\" stroke=\"#000000\" d=\"M1411.138,-196.3502C1436.5563,-183.5499 1465.162,-168.878 1491,-155 1492.501,-154.1938 1494.0172,-153.3747 1495.5439,-152.5455\"/>\n<polygon fill=\"#000000\" stroke=\"#000000\" points=\"1497.2851,-155.5825 1504.3723,-147.7071 1493.9208,-149.4439 1497.2851,-155.5825\"/>\n</g>\n<!-- 4876 -->\n<g id=\"node27\" class=\"node\">\n<title>4876</title>\n<polygon fill=\"#c0c0c0\" stroke=\"#000000\" points=\"1329,-36 1275,-36 1275,0 1329,0 1329,-36\"/>\n<text text-anchor=\"middle\" x=\"1302\" y=\"-14.3\" font-family=\"Helvetica,sans-Serif\" font-size=\"14.00\" fill=\"#000000\">(...)</text>\n</g>\n<!-- 4875&#45;&gt;4876 -->\n<g id=\"edge26\" class=\"edge\">\n<title>4875&#45;&gt;4876</title>\n<path fill=\"none\" stroke=\"#000000\" d=\"M1322.3146,-71.8901C1318.9739,-63.0279 1315.525,-53.8788 1312.4386,-45.6913\"/>\n<polygon fill=\"#000000\" stroke=\"#000000\" points=\"1315.6877,-44.3878 1308.8853,-36.2651 1309.1376,-46.8569 1315.6877,-44.3878\"/>\n</g>\n<!-- 4881 -->\n<g id=\"node28\" class=\"node\">\n<title>4881</title>\n<polygon fill=\"#c0c0c0\" stroke=\"#000000\" points=\"1401,-36 1347,-36 1347,0 1401,0 1401,-36\"/>\n<text text-anchor=\"middle\" x=\"1374\" y=\"-14.3\" font-family=\"Helvetica,sans-Serif\" font-size=\"14.00\" fill=\"#000000\">(...)</text>\n</g>\n<!-- 4875&#45;&gt;4881 -->\n<g id=\"edge27\" class=\"edge\">\n<title>4875&#45;&gt;4881</title>\n<path fill=\"none\" stroke=\"#000000\" d=\"M1353.6854,-71.8901C1357.0261,-63.0279 1360.475,-53.8788 1363.5614,-45.6913\"/>\n<polygon fill=\"#000000\" stroke=\"#000000\" points=\"1366.8624,-46.8569 1367.1147,-36.2651 1360.3123,-44.3878 1366.8624,-46.8569\"/>\n</g>\n</g>\n</svg>\n"
          },
          "metadata": {}
        }
      ]
    },
    {
      "cell_type": "code",
      "source": [
        "%matplotlib inline\n",
        "import matplotlib.pyplot as plt\n",
        "\n",
        "model_dt = pipe_dt.named_steps['decisiontreeclassifier']\n",
        "importances = pd.Series(model_dt.feature_importances_, X_train.columns)\n",
        "plt.figure(figsize=(10, 8))\n",
        "importances.sort_values().plot.barh();"
      ],
      "metadata": {
        "colab": {
          "base_uri": "https://localhost:8080/",
          "height": 483
        },
        "id": "dTox7gsWqjGG",
        "outputId": "c673927d-03bf-40ad-d6d0-0c84074fbc95"
      },
      "execution_count": null,
      "outputs": [
        {
          "output_type": "display_data",
          "data": {
            "text/plain": [
              "<Figure size 720x576 with 1 Axes>"
            ],
            "image/png": "[encoded data removed]"
          },
          "metadata": {
            "needs_background": "light"
          }
        }
      ]
    },
    {
      "cell_type": "code",
      "source": [
        "# 랜덤포레스트 모델\n",
        "from sklearn.ensemble import RandomForestClassifier\n",
        "\n",
        "pipe_rf = make_pipeline(\n",
        "    OrdinalEncoder(),\n",
        "    SimpleImputer(),\n",
        "    RandomForestClassifier(\n",
        "        max_depth = 20,\n",
        "        random_state=42, \n",
        "        oob_score=True, \n",
        "        n_jobs=-1,\n",
        "        class_weight=\"balanced\",\n",
        "        ),\n",
        ")\n",
        "\n",
        "pipe_rf.fit(X_train, y_train)\n",
        "print(\"훈련 정확도: \", pipe_rf.score(X_train, y_train))\n",
        "print(\"검증 정확도: \", pipe_rf.score(X_val, y_val))"
      ],
      "metadata": {
        "colab": {
          "base_uri": "https://localhost:8080/"
        },
        "id": "VdxmcMMjq4Mq",
        "outputId": "7a118bb7-ded6-426d-e9b2-40352b4af784"
      },
      "execution_count": null,
      "outputs": [
        {
          "output_type": "stream",
          "name": "stdout",
          "text": [
            "훈련 정확도:  0.9950646312863187\n",
            "검증 정확도:  0.9808956978581138\n"
          ]
        }
      ]
    },
    {
      "cell_type": "code",
      "source": [
        "# out-of-bag sample을 이용하여 oob_score를 구할 수 있습니다.\n",
        "pipe_rf.named_steps[\"randomforestclassifier\"].oob_score_"
      ],
      "metadata": {
        "colab": {
          "base_uri": "https://localhost:8080/"
        },
        "id": "kno1z70Qq4Ph",
        "outputId": "32f28f03-3a01-420a-bf95-ead5e2781148"
      },
      "execution_count": null,
      "outputs": [
        {
          "output_type": "execute_result",
          "data": {
            "text/plain": [
              "0.9812994838069695"
            ]
          },
          "metadata": {},
          "execution_count": 14
        }
      ]
    },
    {
      "cell_type": "code",
      "source": [
        "y_pred_rf = pipe_rf.predict(X_val)\n",
        "print(classification_report(y_val, y_pred_rf))"
      ],
      "metadata": {
        "colab": {
          "base_uri": "https://localhost:8080/"
        },
        "id": "wR1elisWq4WK",
        "outputId": "54807e7a-f4f7-4330-bd51-1b6524871a75"
      },
      "execution_count": null,
      "outputs": [
        {
          "output_type": "stream",
          "name": "stdout",
          "text": [
            "              precision    recall  f1-score   support\n",
            "\n",
            "          No       0.99      0.98      0.99     47734\n",
            "         Yes       0.90      0.96      0.93      6704\n",
            "\n",
            "    accuracy                           0.98     54438\n",
            "   macro avg       0.94      0.97      0.96     54438\n",
            "weighted avg       0.98      0.98      0.98     54438\n",
            "\n"
          ]
        }
      ]
    },
    {
      "cell_type": "code",
      "source": [
        "from sklearn.metrics import confusion_matrix, ConfusionMatrixDisplay\n",
        "import seaborn as sns\n",
        "\n",
        "def plot_confusion_matrix(model, X_val_encoded, y_val):\n",
        "    if isinstance(model, RandomForestClassifier):\n",
        "        y_pred = model.predict(X_val_encoded, iteration_range=(0, model.best_iteration))\n",
        "    else:\n",
        "        y_pred = model.predict(X_val_encoded)\n",
        "    cm = confusion_matrix(y_val, y_pred)\n",
        "    disp = ConfusionMatrixDisplay(cm)\n",
        "    disp.plot(cmap='Blues')\n",
        "    plt.show()\n",
        "    \n",
        "plot_confusion_matrix(pipe_rf, X_val, y_val)"
      ],
      "metadata": {
        "colab": {
          "base_uri": "https://localhost:8080/",
          "height": 279
        },
        "id": "JzGIiEHJrI-L",
        "outputId": "1a8c0abd-ff4e-4437-d025-236983438e04"
      },
      "execution_count": null,
      "outputs": [
        {
          "output_type": "display_data",
          "data": {
            "text/plain": [
              "<Figure size 432x288 with 2 Axes>"
            ],
            "image/png": "[encoded data removed]"
          },
          "metadata": {
            "needs_background": "light"
          }
        }
      ]
    },
    {
      "cell_type": "code",
      "source": [
        "%matplotlib inline\n",
        "import matplotlib.pyplot as plt\n",
        "\n",
        "model_rf = pipe_rf.named_steps[\"randomforestclassifier\"]\n",
        "importances = pd.Series(model_rf.feature_importances_, X_train.columns)\n",
        "plt.figure(figsize=(10, 8))\n",
        "importances.sort_values().plot.barh();"
      ],
      "metadata": {
        "colab": {
          "base_uri": "https://localhost:8080/",
          "height": 483
        },
        "id": "oENogrYfq4Ym",
        "outputId": "5b6ff035-3dc8-4afc-a3ce-e67b58079869"
      },
      "execution_count": null,
      "outputs": [
        {
          "output_type": "display_data",
          "data": {
            "text/plain": [
              "<Figure size 720x576 with 1 Axes>"
            ],
            "image/png": "[encoded data removed]"
          },
          "metadata": {
            "needs_background": "light"
          }
        }
      ]
    },
    {
      "cell_type": "code",
      "source": [
        "# XG부스트 모델\n",
        "from category_encoders import OrdinalEncoder\n",
        "from sklearn.impute import SimpleImputer\n",
        "from xgboost import XGBClassifier\n",
        "from sklearn.pipeline import make_pipeline\n",
        "\n",
        "\n",
        "pipe_gb = make_pipeline(\n",
        "    OrdinalEncoder(),\n",
        "    SimpleImputer(strategy=\"median\"),\n",
        "    XGBClassifier(\n",
        "        objective=\"binary:logistic\",\n",
        "        eval_metric=\"error\",  # error = 1 - accuracy 지표를 사용해 평가합니다.\n",
        "        random_state=42,\n",
        "        n_jobs=-1,\n",
        "        max_depth=20,\n",
        "        learning_rate=0.1,\n",
        "        scale_pos_weight = 7,\n",
        "    ),\n",
        ")\n",
        "print(pipe_gb)\n",
        "\n",
        "pipe_gb.fit(X_train, y_train)\n",
        "print(\"학습 정확도\", pipe_gb.score(X_train, y_train))\n",
        "print(\"검증 정확도\", pipe_gb.score(X_val, y_val))"
      ],
      "metadata": {
        "colab": {
          "base_uri": "https://localhost:8080/"
        },
        "id": "sQIsVwi5q4a7",
        "outputId": "d4bd0d5b-d54b-424a-ce7e-2ae56709e0af"
      },
      "execution_count": null,
      "outputs": [
        {
          "output_type": "stream",
          "name": "stdout",
          "text": [
            "Pipeline(steps=[('ordinalencoder', OrdinalEncoder()),\n",
            "                ('simpleimputer', SimpleImputer(strategy='median')),\n",
            "                ('xgbclassifier',\n",
            "                 XGBClassifier(eval_metric='error', max_depth=20, n_jobs=-1,\n",
            "                               random_state=42, scale_pos_weight=7))])\n",
            "학습 정확도 0.9999877534275095\n",
            "검증 정확도 0.988519049193578\n"
          ]
        }
      ]
    },
    {
      "cell_type": "code",
      "source": [
        "y_pred_gb = pipe_gb.predict(X_val)\n",
        "print(classification_report(y_val, y_pred_gb))"
      ],
      "metadata": {
        "colab": {
          "base_uri": "https://localhost:8080/"
        },
        "id": "1e9JGWfsq4d1",
        "outputId": "382141e4-d1b6-45fa-9e3c-d54954ec6121"
      },
      "execution_count": null,
      "outputs": [
        {
          "output_type": "stream",
          "name": "stdout",
          "text": [
            "              precision    recall  f1-score   support\n",
            "\n",
            "          No       1.00      0.99      0.99     47734\n",
            "         Yes       0.94      0.97      0.95      6704\n",
            "\n",
            "    accuracy                           0.99     54438\n",
            "   macro avg       0.97      0.98      0.97     54438\n",
            "weighted avg       0.99      0.99      0.99     54438\n",
            "\n"
          ]
        }
      ]
    },
    {
      "cell_type": "code",
      "source": [
        "def plot_confusion_matrix(model, X_val_encoded, y_val):\n",
        "    if isinstance(model, XGBClassifier):\n",
        "        y_pred = model.predict(X_val_encoded, iteration_range=(0, model.best_iteration))\n",
        "    else:\n",
        "        y_pred = model.predict(X_val_encoded)\n",
        "    cm = confusion_matrix(y_val, y_pred)\n",
        "    disp = ConfusionMatrixDisplay(cm)\n",
        "    disp.plot(cmap='Blues')\n",
        "    plt.show()\n",
        "    \n",
        "plot_confusion_matrix(pipe_gb, X_val, y_val)"
      ],
      "metadata": {
        "colab": {
          "base_uri": "https://localhost:8080/",
          "height": 279
        },
        "id": "adQ0zGv-ryV_",
        "outputId": "063f8cd2-11f6-4649-9351-6055feb44f6c"
      },
      "execution_count": null,
      "outputs": [
        {
          "output_type": "display_data",
          "data": {
            "text/plain": [
              "<Figure size 432x288 with 2 Axes>"
            ],
            "image/png": "[encoded data removed]"
          },
          "metadata": {
            "needs_background": "light"
          }
        }
      ]
    },
    {
      "cell_type": "code",
      "source": [
        "%matplotlib inline\n",
        "import matplotlib.pyplot as plt\n",
        "\n",
        "model_gb = pipe_gb.named_steps[\"xgbclassifier\"]\n",
        "importances = pd.Series(model_gb.feature_importances_, X_train.columns)\n",
        "plt.figure(figsize=(10, 8))\n",
        "importances.sort_values().plot.barh();"
      ],
      "metadata": {
        "colab": {
          "base_uri": "https://localhost:8080/",
          "height": 483
        },
        "id": "momNF9pXrycS",
        "outputId": "6ccf1741-0272-4d9c-f232-6ec411bb2524"
      },
      "execution_count": null,
      "outputs": [
        {
          "output_type": "display_data",
          "data": {
            "text/plain": [
              "<Figure size 720x576 with 1 Axes>"
            ],
            "image/png": "[encoded data removed]"
          },
          "metadata": {
            "needs_background": "light"
          }
        }
      ]
    },
    {
      "cell_type": "code",
      "source": [],
      "metadata": {
        "id": "7xGNf9x9ryfU"
      },
      "execution_count": null,
      "outputs": []
    },
    {
      "cell_type": "code",
      "source": [],
      "metadata": {
        "id": "0q4U_41iryiK"
      },
      "execution_count": null,
      "outputs": []
    }
  ]
}