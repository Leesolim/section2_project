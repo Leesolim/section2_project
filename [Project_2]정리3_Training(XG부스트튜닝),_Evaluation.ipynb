{
  "nbformat": 4,
  "nbformat_minor": 0,
  "metadata": {
    "colab": {
      "provenance": [],
      "collapsed_sections": []
    },
    "kernelspec": {
      "name": "python3",
      "display_name": "Python 3"
    },
    "language_info": {
      "name": "python"
    }
  },
  "cells": [
    {
      "cell_type": "code",
      "execution_count": null,
      "metadata": {
        "colab": {
          "base_uri": "https://localhost:8080/"
        },
        "id": "GRSlfh7jcGht",
        "outputId": "98fd5a2c-64e7-410a-b8bd-529ee1c6c122"
      },
      "outputs": [
        {
          "output_type": "stream",
          "name": "stdout",
          "text": [
            "Looking in indexes: https://pypi.org/simple, https://us-python.pkg.dev/colab-wheels/public/simple/\n",
            "Collecting category_encoders\n",
            "  Downloading category_encoders-2.5.0-py2.py3-none-any.whl (69 kB)\n",
            "\u001b[K     |████████████████████████████████| 69 kB 1.9 MB/s \n",
            "\u001b[?25hRequirement already satisfied: pandas>=1.0.5 in /usr/local/lib/python3.7/dist-packages (from category_encoders) (1.3.5)\n",
            "Requirement already satisfied: numpy>=1.14.0 in /usr/local/lib/python3.7/dist-packages (from category_encoders) (1.21.6)\n",
            "Requirement already satisfied: scipy>=1.0.0 in /usr/local/lib/python3.7/dist-packages (from category_encoders) (1.7.3)\n",
            "Requirement already satisfied: scikit-learn>=0.20.0 in /usr/local/lib/python3.7/dist-packages (from category_encoders) (1.0.2)\n",
            "Requirement already satisfied: patsy>=0.5.1 in /usr/local/lib/python3.7/dist-packages (from category_encoders) (0.5.2)\n",
            "Requirement already satisfied: statsmodels>=0.9.0 in /usr/local/lib/python3.7/dist-packages (from category_encoders) (0.12.2)\n",
            "Requirement already satisfied: pytz>=2017.3 in /usr/local/lib/python3.7/dist-packages (from pandas>=1.0.5->category_encoders) (2022.2.1)\n",
            "Requirement already satisfied: python-dateutil>=2.7.3 in /usr/local/lib/python3.7/dist-packages (from pandas>=1.0.5->category_encoders) (2.8.2)\n",
            "Requirement already satisfied: six in /usr/local/lib/python3.7/dist-packages (from patsy>=0.5.1->category_encoders) (1.15.0)\n",
            "Requirement already satisfied: threadpoolctl>=2.0.0 in /usr/local/lib/python3.7/dist-packages (from scikit-learn>=0.20.0->category_encoders) (3.1.0)\n",
            "Requirement already satisfied: joblib>=0.11 in /usr/local/lib/python3.7/dist-packages (from scikit-learn>=0.20.0->category_encoders) (1.1.0)\n",
            "Installing collected packages: category-encoders\n",
            "Successfully installed category-encoders-2.5.0\n",
            "Looking in indexes: https://pypi.org/simple, https://us-python.pkg.dev/colab-wheels/public/simple/\n",
            "Requirement already satisfied: xgboost in /usr/local/lib/python3.7/dist-packages (0.90)\n",
            "Requirement already satisfied: scipy in /usr/local/lib/python3.7/dist-packages (from xgboost) (1.7.3)\n",
            "Requirement already satisfied: numpy in /usr/local/lib/python3.7/dist-packages (from xgboost) (1.21.6)\n",
            "Looking in indexes: https://pypi.org/simple, https://us-python.pkg.dev/colab-wheels/public/simple/\n",
            "Requirement already satisfied: hyperopt in /usr/local/lib/python3.7/dist-packages (0.1.2)\n",
            "Requirement already satisfied: tqdm in /usr/local/lib/python3.7/dist-packages (from hyperopt) (4.64.1)\n",
            "Requirement already satisfied: scipy in /usr/local/lib/python3.7/dist-packages (from hyperopt) (1.7.3)\n",
            "Requirement already satisfied: networkx in /usr/local/lib/python3.7/dist-packages (from hyperopt) (2.6.3)\n",
            "Requirement already satisfied: pymongo in /usr/local/lib/python3.7/dist-packages (from hyperopt) (4.2.0)\n",
            "Requirement already satisfied: six in /usr/local/lib/python3.7/dist-packages (from hyperopt) (1.15.0)\n",
            "Requirement already satisfied: numpy in /usr/local/lib/python3.7/dist-packages (from hyperopt) (1.21.6)\n",
            "Requirement already satisfied: future in /usr/local/lib/python3.7/dist-packages (from hyperopt) (0.16.0)\n"
          ]
        }
      ],
      "source": [
        "#회귀, 분류분석을 위해 install해야 하는 라이브러리\n",
        "!pip install category_encoders # 원핫인코딩을 위해 category_encoders 라이브러리를 설치\n",
        "!pip3 install xgboost\n",
        "!pip3 install hyperopt"
      ]
    },
    {
      "cell_type": "code",
      "source": [
        "import pandas as pd\n",
        "import numpy as np\n",
        "import matplotlib.pyplot as plt\n",
        "import seaborn as sns\n",
        "\n",
        "from sklearn.datasets import make_classification\n",
        "from category_encoders import OrdinalEncoder\n",
        "from sklearn.impute import SimpleImputer\n",
        "from sklearn.pipeline import make_pipeline\n",
        "from sklearn.metrics import classification_report, roc_auc_score\n",
        "from sklearn.metrics import accuracy_score\n",
        "\n",
        "from sklearn.metrics import plot_confusion_matrix"
      ],
      "metadata": {
        "id": "oKJeeUyDed_C"
      },
      "execution_count": null,
      "outputs": []
    },
    {
      "cell_type": "code",
      "source": [
        "from google.colab import drive\n",
        "drive.mount(\"/content/drive\")\n",
        "df = pd.read_csv(\"/content/drive/MyDrive/PonderosaPine_out.csv\")\n",
        "\n",
        "# Cover_Type, 'Cover_Type_Tree'가 있으면 데이터 누수가 발생(정답이므로,,,)하므로 삭제, \n",
        "# object는 category 로 자료형 변경\n",
        "# df = df.drop(columns = ['Cover_Type','Cover_Type_Tree'], axis=1)\n",
        "df['Area'] = df['Area'].astype('category')\n",
        "df['Soil_Type'] = df['Soil_Type'].astype('category')\n",
        "df['PonderosaPine'] = df['PonderosaPine'].astype('category')\n",
        "# df['PonderosaPine'] = df['PonderosaPine'].replace({'No':0, 'Yes':1}).astype('category')\n",
        "\n",
        "df.info()\n",
        "df.head()"
      ],
      "metadata": {
        "colab": {
          "base_uri": "https://localhost:8080/",
          "height": 743
        },
        "id": "jVAD-1u0eeBw",
        "outputId": "638a919d-4ed1-401b-ab8c-2c2873f64c34"
      },
      "execution_count": null,
      "outputs": [
        {
          "output_type": "stream",
          "name": "stdout",
          "text": [
            "Drive already mounted at /content/drive; to attempt to forcibly remount, call drive.mount(\"/content/drive\", force_remount=True).\n",
            "<class 'pandas.core.frame.DataFrame'>\n",
            "RangeIndex: 290332 entries, 0 to 290331\n",
            "Data columns (total 13 columns):\n",
            " #   Column                              Non-Null Count   Dtype   \n",
            "---  ------                              --------------   -----   \n",
            " 0   Elevation                           290332 non-null  int64   \n",
            " 1   Aspect                              290332 non-null  int64   \n",
            " 2   Slope                               290332 non-null  int64   \n",
            " 3   Horizontal_Distance_To_Hydrology    290332 non-null  int64   \n",
            " 4   Vertical_Distance_To_Hydrology      290332 non-null  int64   \n",
            " 5   Horizontal_Distance_To_Roadways     290332 non-null  int64   \n",
            " 6   Hillshade_9am                       290332 non-null  int64   \n",
            " 7   Hillshade_Noon                      290332 non-null  int64   \n",
            " 8   Hillshade_3pm                       290332 non-null  int64   \n",
            " 9   Horizontal_Distance_To_Fire_Points  290332 non-null  int64   \n",
            " 10  Area                                290332 non-null  category\n",
            " 11  Soil_Type                           290332 non-null  category\n",
            " 12  PonderosaPine                       290332 non-null  category\n",
            "dtypes: category(3), int64(10)\n",
            "memory usage: 23.0 MB\n"
          ]
        },
        {
          "output_type": "execute_result",
          "data": {
            "text/plain": [
              "   Elevation  Aspect  Slope  Horizontal_Distance_To_Hydrology  \\\n",
              "0       2621     162     13                                60   \n",
              "1       2664     112      5                                60   \n",
              "2       2633      68      8                                42   \n",
              "3       2662     105      5                                30   \n",
              "4       2674      10      8                                30   \n",
              "\n",
              "   Vertical_Distance_To_Hydrology  Horizontal_Distance_To_Roadways  \\\n",
              "0                              -6                              849   \n",
              "1                              -8                             1214   \n",
              "2                               2                              979   \n",
              "3                              -3                             1211   \n",
              "4                               1                             1295   \n",
              "\n",
              "   Hillshade_9am  Hillshade_Noon  Hillshade_3pm  \\\n",
              "0            232             243            139   \n",
              "1            229             234            139   \n",
              "2            228             225            130   \n",
              "3            228             234            140   \n",
              "4            211             224            149   \n",
              "\n",
              "   Horizontal_Distance_To_Fire_Points           Area    Soil_Type  \\\n",
              "0                                1521  Comanche Peak  Soil_Type20   \n",
              "1                                1719  Comanche Peak  Soil_Type20   \n",
              "2                                1594  Comanche Peak  Soil_Type20   \n",
              "3                                1731  Comanche Peak  Soil_Type20   \n",
              "4                                1801  Comanche Peak  Soil_Type20   \n",
              "\n",
              "  PonderosaPine  \n",
              "0            No  \n",
              "1            No  \n",
              "2            No  \n",
              "3            No  \n",
              "4            No  "
            ],
            "text/html": [
              "\n",
              "  <div id=\"df-eb7613f0-cf13-4e05-ac66-551b37357be0\">\n",
              "    <div class=\"colab-df-container\">\n",
              "      <div>\n",
              "<style scoped>\n",
              "    .dataframe tbody tr th:only-of-type {\n",
              "        vertical-align: middle;\n",
              "    }\n",
              "\n",
              "    .dataframe tbody tr th {\n",
              "        vertical-align: top;\n",
              "    }\n",
              "\n",
              "    .dataframe thead th {\n",
              "        text-align: right;\n",
              "    }\n",
              "</style>\n",
              "<table border=\"1\" class=\"dataframe\">\n",
              "  <thead>\n",
              "    <tr style=\"text-align: right;\">\n",
              "      <th></th>\n",
              "      <th>Elevation</th>\n",
              "      <th>Aspect</th>\n",
              "      <th>Slope</th>\n",
              "      <th>Horizontal_Distance_To_Hydrology</th>\n",
              "      <th>Vertical_Distance_To_Hydrology</th>\n",
              "      <th>Horizontal_Distance_To_Roadways</th>\n",
              "      <th>Hillshade_9am</th>\n",
              "      <th>Hillshade_Noon</th>\n",
              "      <th>Hillshade_3pm</th>\n",
              "      <th>Horizontal_Distance_To_Fire_Points</th>\n",
              "      <th>Area</th>\n",
              "      <th>Soil_Type</th>\n",
              "      <th>PonderosaPine</th>\n",
              "    </tr>\n",
              "  </thead>\n",
              "  <tbody>\n",
              "    <tr>\n",
              "      <th>0</th>\n",
              "      <td>2621</td>\n",
              "      <td>162</td>\n",
              "      <td>13</td>\n",
              "      <td>60</td>\n",
              "      <td>-6</td>\n",
              "      <td>849</td>\n",
              "      <td>232</td>\n",
              "      <td>243</td>\n",
              "      <td>139</td>\n",
              "      <td>1521</td>\n",
              "      <td>Comanche Peak</td>\n",
              "      <td>Soil_Type20</td>\n",
              "      <td>No</td>\n",
              "    </tr>\n",
              "    <tr>\n",
              "      <th>1</th>\n",
              "      <td>2664</td>\n",
              "      <td>112</td>\n",
              "      <td>5</td>\n",
              "      <td>60</td>\n",
              "      <td>-8</td>\n",
              "      <td>1214</td>\n",
              "      <td>229</td>\n",
              "      <td>234</td>\n",
              "      <td>139</td>\n",
              "      <td>1719</td>\n",
              "      <td>Comanche Peak</td>\n",
              "      <td>Soil_Type20</td>\n",
              "      <td>No</td>\n",
              "    </tr>\n",
              "    <tr>\n",
              "      <th>2</th>\n",
              "      <td>2633</td>\n",
              "      <td>68</td>\n",
              "      <td>8</td>\n",
              "      <td>42</td>\n",
              "      <td>2</td>\n",
              "      <td>979</td>\n",
              "      <td>228</td>\n",
              "      <td>225</td>\n",
              "      <td>130</td>\n",
              "      <td>1594</td>\n",
              "      <td>Comanche Peak</td>\n",
              "      <td>Soil_Type20</td>\n",
              "      <td>No</td>\n",
              "    </tr>\n",
              "    <tr>\n",
              "      <th>3</th>\n",
              "      <td>2662</td>\n",
              "      <td>105</td>\n",
              "      <td>5</td>\n",
              "      <td>30</td>\n",
              "      <td>-3</td>\n",
              "      <td>1211</td>\n",
              "      <td>228</td>\n",
              "      <td>234</td>\n",
              "      <td>140</td>\n",
              "      <td>1731</td>\n",
              "      <td>Comanche Peak</td>\n",
              "      <td>Soil_Type20</td>\n",
              "      <td>No</td>\n",
              "    </tr>\n",
              "    <tr>\n",
              "      <th>4</th>\n",
              "      <td>2674</td>\n",
              "      <td>10</td>\n",
              "      <td>8</td>\n",
              "      <td>30</td>\n",
              "      <td>1</td>\n",
              "      <td>1295</td>\n",
              "      <td>211</td>\n",
              "      <td>224</td>\n",
              "      <td>149</td>\n",
              "      <td>1801</td>\n",
              "      <td>Comanche Peak</td>\n",
              "      <td>Soil_Type20</td>\n",
              "      <td>No</td>\n",
              "    </tr>\n",
              "  </tbody>\n",
              "</table>\n",
              "</div>\n",
              "      <button class=\"colab-df-convert\" onclick=\"convertToInteractive('df-eb7613f0-cf13-4e05-ac66-551b37357be0')\"\n",
              "              title=\"Convert this dataframe to an interactive table.\"\n",
              "              style=\"display:none;\">\n",
              "        \n",
              "  <svg xmlns=\"http://www.w3.org/2000/svg\" height=\"24px\"viewBox=\"0 0 24 24\"\n",
              "       width=\"24px\">\n",
              "    <path d=\"M0 0h24v24H0V0z\" fill=\"none\"/>\n",
              "    <path d=\"M18.56 5.44l.94 2.06.94-2.06 2.06-.94-2.06-.94-.94-2.06-.94 2.06-2.06.94zm-11 1L8.5 8.5l.94-2.06 2.06-.94-2.06-.94L8.5 2.5l-.94 2.06-2.06.94zm10 10l.94 2.06.94-2.06 2.06-.94-2.06-.94-.94-2.06-.94 2.06-2.06.94z\"/><path d=\"M17.41 7.96l-1.37-1.37c-.4-.4-.92-.59-1.43-.59-.52 0-1.04.2-1.43.59L10.3 9.45l-7.72 7.72c-.78.78-.78 2.05 0 2.83L4 21.41c.39.39.9.59 1.41.59.51 0 1.02-.2 1.41-.59l7.78-7.78 2.81-2.81c.8-.78.8-2.07 0-2.86zM5.41 20L4 18.59l7.72-7.72 1.47 1.35L5.41 20z\"/>\n",
              "  </svg>\n",
              "      </button>\n",
              "      \n",
              "  <style>\n",
              "    .colab-df-container {\n",
              "      display:flex;\n",
              "      flex-wrap:wrap;\n",
              "      gap: 12px;\n",
              "    }\n",
              "\n",
              "    .colab-df-convert {\n",
              "      background-color: #E8F0FE;\n",
              "      border: none;\n",
              "      border-radius: 50%;\n",
              "      cursor: pointer;\n",
              "      display: none;\n",
              "      fill: #1967D2;\n",
              "      height: 32px;\n",
              "      padding: 0 0 0 0;\n",
              "      width: 32px;\n",
              "    }\n",
              "\n",
              "    .colab-df-convert:hover {\n",
              "      background-color: #E2EBFA;\n",
              "      box-shadow: 0px 1px 2px rgba(60, 64, 67, 0.3), 0px 1px 3px 1px rgba(60, 64, 67, 0.15);\n",
              "      fill: #174EA6;\n",
              "    }\n",
              "\n",
              "    [theme=dark] .colab-df-convert {\n",
              "      background-color: #3B4455;\n",
              "      fill: #D2E3FC;\n",
              "    }\n",
              "\n",
              "    [theme=dark] .colab-df-convert:hover {\n",
              "      background-color: #434B5C;\n",
              "      box-shadow: 0px 1px 3px 1px rgba(0, 0, 0, 0.15);\n",
              "      filter: drop-shadow(0px 1px 2px rgba(0, 0, 0, 0.3));\n",
              "      fill: #FFFFFF;\n",
              "    }\n",
              "  </style>\n",
              "\n",
              "      <script>\n",
              "        const buttonEl =\n",
              "          document.querySelector('#df-eb7613f0-cf13-4e05-ac66-551b37357be0 button.colab-df-convert');\n",
              "        buttonEl.style.display =\n",
              "          google.colab.kernel.accessAllowed ? 'block' : 'none';\n",
              "\n",
              "        async function convertToInteractive(key) {\n",
              "          const element = document.querySelector('#df-eb7613f0-cf13-4e05-ac66-551b37357be0');\n",
              "          const dataTable =\n",
              "            await google.colab.kernel.invokeFunction('convertToInteractive',\n",
              "                                                     [key], {});\n",
              "          if (!dataTable) return;\n",
              "\n",
              "          const docLinkHtml = 'Like what you see? Visit the ' +\n",
              "            '<a target=\"_blank\" href=https://colab.research.google.com/notebooks/data_table.ipynb>data table notebook</a>'\n",
              "            + ' to learn more about interactive tables.';\n",
              "          element.innerHTML = '';\n",
              "          dataTable['output_type'] = 'display_data';\n",
              "          await google.colab.output.renderOutput(dataTable, element);\n",
              "          const docLink = document.createElement('div');\n",
              "          docLink.innerHTML = docLinkHtml;\n",
              "          element.appendChild(docLink);\n",
              "        }\n",
              "      </script>\n",
              "    </div>\n",
              "  </div>\n",
              "  "
            ]
          },
          "metadata": {},
          "execution_count": 4
        }
      ]
    },
    {
      "cell_type": "code",
      "source": [
        "y =  df['PonderosaPine']\n",
        "print(\"타겟데이터의 비율\\n\",y.value_counts(normalize=True))\n",
        "\n",
        "%matplotlib inline\n",
        "sns.countplot(x=y);"
      ],
      "metadata": {
        "colab": {
          "base_uri": "https://localhost:8080/",
          "height": 352
        },
        "id": "DVUknSl4eeEN",
        "outputId": "2f4f6205-6752-4ef4-cc03-b9839e8ba137"
      },
      "execution_count": null,
      "outputs": [
        {
          "output_type": "stream",
          "name": "stdout",
          "text": [
            "타겟데이터의 비율\n",
            " No     0.876851\n",
            "Yes    0.123149\n",
            "Name: PonderosaPine, dtype: float64\n"
          ]
        },
        {
          "output_type": "display_data",
          "data": {
            "text/plain": [
              "<Figure size 432x288 with 1 Axes>"
            ],
            "image/png": "[encoded data removed]"
          },
          "metadata": {
            "needs_background": "light"
          }
        }
      ]
    },
    {
      "cell_type": "code",
      "source": [
        "# train, validation, test set으로 먼저 나눠주겠습니다.\n",
        "\n",
        "from sklearn.model_selection import train_test_split\n",
        "\n",
        "# 타겟값이 문자형이기 때문에 수치형으로 바꿔주겠습니다.\n",
        "# df['PonderosaPine'] = df['PonderosaPine'].replace({'No':0, 'Yes':1}).astype('category')\n",
        "\n",
        "y = df['PonderosaPine']\n",
        "X = df.drop('PonderosaPine', axis=1)\n",
        "\n",
        "X_train, X_test, y_train, y_test = train_test_split(X, y,  random_state=42, stratify=y)\n",
        "X_train, X_val, y_train, y_val = train_test_split(X_train, y_train, random_state=42, stratify=y_train)\n",
        "\n",
        "print(\"X_train shape: \", X_train.shape)\n",
        "print(\"X_val shape: \", X_val.shape)\n",
        "print(\"X_test shape: \", X_test.shape)"
      ],
      "metadata": {
        "id": "El9ryQiAeeGr",
        "colab": {
          "base_uri": "https://localhost:8080/"
        },
        "outputId": "758a856b-5d33-4ae2-926e-209d0f7e2405"
      },
      "execution_count": null,
      "outputs": [
        {
          "output_type": "stream",
          "name": "stdout",
          "text": [
            "X_train shape:  (163311, 12)\n",
            "X_val shape:  (54438, 12)\n",
            "X_test shape:  (72583, 12)\n"
          ]
        }
      ]
    },
    {
      "cell_type": "code",
      "source": [
        "from hyperopt import hp\n",
        "\n",
        "params = {\n",
        "    \"xgbclassifier__max_depth\": hp.quniform(\"max_depth\", 15, 30, 5),\n",
        "    \"xgbclassifier__colsample_bytree\": hp.uniform(\"colsample_bytree\", 0.6, 1.0),\n",
        "    \"xgbclassifier__subsample\": hp.uniform(\"subsample\", 0.6, 1.0),\n",
        "}"
      ],
      "metadata": {
        "id": "80t0mjQa4jxw"
      },
      "execution_count": null,
      "outputs": []
    },
    {
      "cell_type": "code",
      "source": [
        "## 베이지안 튜닝\n",
        "\n",
        "from category_encoders import OrdinalEncoder\n",
        "from sklearn.impute import SimpleImputer\n",
        "from xgboost import XGBClassifier\n",
        "from sklearn.pipeline import make_pipeline\n",
        "from hyperopt import fmin, tpe, Trials, STATUS_OK\n",
        "from sklearn.model_selection import cross_val_score\n",
        "import numpy as np\n",
        "\n",
        "\n",
        "def get_pipe(params):\n",
        "    params[\"xgbclassifier__max_depth\"] = int(\n",
        "        params[\"xgbclassifier__max_depth\"]\n",
        "    )  # max_depth는 정수형으로 변환해 줍니다.\n",
        "    pipe = make_pipeline(\n",
        "        OrdinalEncoder(),\n",
        "        SimpleImputer(strategy=\"median\"),\n",
        "        XGBClassifier(\n",
        "            objective=\"binary:logistic\",\n",
        "            eval_metric=\"auc\",\n",
        "            n_estimators= 200,\n",
        "            random_state= 42,\n",
        "            n_jobs=-1,\n",
        "            learning_rate= 0.1,\n",
        "            use_label_encoder= False,\n",
        "        ),\n",
        "    )\n",
        "    pipe = pipe.set_params(**params)\n",
        "    return pipe\n",
        "\n",
        "def fit_and_eval(params):\n",
        "    pipe = get_pipe(params)  # 주어진 params로 파이프라인을 만들어 가져옵니다.\n",
        "    score = cross_val_score(pipe, X_train, y_train, cv=3, scoring=\"roc_auc\")\n",
        "    avg_cv_score = np.mean(score)\n",
        "    # roc_auc는 클수록 좋은 metric이므로, hyperopt.fmin이 roc_auc를 최대화하도록 하기 위해 -부호를 붙여 반환합니다.\n",
        "    return {\"loss\": -avg_cv_score, \"status\": STATUS_OK}\n",
        "\n",
        "\n",
        "trials = (\n",
        "    Trials()\n",
        ")  # Trials() 객체를 fmin에 함께 넣어 실행하면, 실행되는 매 fit의 학습 정보 및 학습 결과가 해당 객체에 모두 저장됩니다.\n",
        "\n",
        "best_params = fmin(\n",
        "    fn=fit_and_eval, trials=trials, space=params, algo=tpe.suggest, max_evals=10\n",
        ")  # max_evals 횟수만큼 하이퍼파라미터 조합을 탐색합니다."
      ],
      "metadata": {
        "colab": {
          "base_uri": "https://localhost:8080/"
        },
        "id": "UvpT8hnM4j0r",
        "outputId": "780f7383-4b10-470b-b745-522b5fd83644"
      },
      "execution_count": null,
      "outputs": [
        {
          "output_type": "stream",
          "name": "stdout",
          "text": [
            "100%|██████████| 10/10 [34:53<00:00, 209.34s/it, best loss: -0.9987946055709213]\n"
          ]
        }
      ]
    },
    {
      "cell_type": "code",
      "source": [
        "trials.trials  # 모든 trial 정보에 대해 직접 접근할 수 있습니다."
      ],
      "metadata": {
        "colab": {
          "base_uri": "https://localhost:8080/"
        },
        "id": "HbmZasxW6poI",
        "outputId": "568c93ba-7abe-4804-c28f-da5fb1a24c76"
      },
      "execution_count": null,
      "outputs": [
        {
          "output_type": "execute_result",
          "data": {
            "text/plain": [
              "[{'state': 2,\n",
              "  'tid': 0,\n",
              "  'spec': None,\n",
              "  'result': {'loss': -0.9985988338974048, 'status': 'ok'},\n",
              "  'misc': {'tid': 0,\n",
              "   'cmd': ('domain_attachment', 'FMinIter_Domain'),\n",
              "   'workdir': None,\n",
              "   'idxs': {'colsample_bytree': [0], 'max_depth': [0], 'subsample': [0]},\n",
              "   'vals': {'colsample_bytree': [0.8857554854727141],\n",
              "    'max_depth': [15.0],\n",
              "    'subsample': [0.6179564741140132]}},\n",
              "  'exp_key': None,\n",
              "  'owner': None,\n",
              "  'version': 0,\n",
              "  'book_time': datetime.datetime(2022, 9, 29, 14, 55, 1, 783000),\n",
              "  'refresh_time': datetime.datetime(2022, 9, 29, 14, 58, 6, 263000)},\n",
              " {'state': 2,\n",
              "  'tid': 1,\n",
              "  'spec': None,\n",
              "  'result': {'loss': -0.9986526840762894, 'status': 'ok'},\n",
              "  'misc': {'tid': 1,\n",
              "   'cmd': ('domain_attachment', 'FMinIter_Domain'),\n",
              "   'workdir': None,\n",
              "   'idxs': {'colsample_bytree': [1], 'max_depth': [1], 'subsample': [1]},\n",
              "   'vals': {'colsample_bytree': [0.7833134801099139],\n",
              "    'max_depth': [20.0],\n",
              "    'subsample': [0.7285652817956231]}},\n",
              "  'exp_key': None,\n",
              "  'owner': None,\n",
              "  'version': 0,\n",
              "  'book_time': datetime.datetime(2022, 9, 29, 14, 58, 6, 268000),\n",
              "  'refresh_time': datetime.datetime(2022, 9, 29, 15, 1, 36, 355000)},\n",
              " {'state': 2,\n",
              "  'tid': 2,\n",
              "  'spec': None,\n",
              "  'result': {'loss': -0.9987455183826249, 'status': 'ok'},\n",
              "  'misc': {'tid': 2,\n",
              "   'cmd': ('domain_attachment', 'FMinIter_Domain'),\n",
              "   'workdir': None,\n",
              "   'idxs': {'colsample_bytree': [2], 'max_depth': [2], 'subsample': [2]},\n",
              "   'vals': {'colsample_bytree': [0.8738885094470272],\n",
              "    'max_depth': [30.0],\n",
              "    'subsample': [0.9426983550854988]}},\n",
              "  'exp_key': None,\n",
              "  'owner': None,\n",
              "  'version': 0,\n",
              "  'book_time': datetime.datetime(2022, 9, 29, 15, 1, 36, 364000),\n",
              "  'refresh_time': datetime.datetime(2022, 9, 29, 15, 5, 46, 185000)},\n",
              " {'state': 2,\n",
              "  'tid': 3,\n",
              "  'spec': None,\n",
              "  'result': {'loss': -0.9986355873098539, 'status': 'ok'},\n",
              "  'misc': {'tid': 3,\n",
              "   'cmd': ('domain_attachment', 'FMinIter_Domain'),\n",
              "   'workdir': None,\n",
              "   'idxs': {'colsample_bytree': [3], 'max_depth': [3], 'subsample': [3]},\n",
              "   'vals': {'colsample_bytree': [0.7301098176206458],\n",
              "    'max_depth': [20.0],\n",
              "    'subsample': [0.9437392719407298]}},\n",
              "  'exp_key': None,\n",
              "  'owner': None,\n",
              "  'version': 0,\n",
              "  'book_time': datetime.datetime(2022, 9, 29, 15, 5, 46, 190000),\n",
              "  'refresh_time': datetime.datetime(2022, 9, 29, 15, 8, 56, 423000)},\n",
              " {'state': 2,\n",
              "  'tid': 4,\n",
              "  'spec': None,\n",
              "  'result': {'loss': -0.9985392519840831, 'status': 'ok'},\n",
              "  'misc': {'tid': 4,\n",
              "   'cmd': ('domain_attachment', 'FMinIter_Domain'),\n",
              "   'workdir': None,\n",
              "   'idxs': {'colsample_bytree': [4], 'max_depth': [4], 'subsample': [4]},\n",
              "   'vals': {'colsample_bytree': [0.6068686927976296],\n",
              "    'max_depth': [30.0],\n",
              "    'subsample': [0.9221658991113104]}},\n",
              "  'exp_key': None,\n",
              "  'owner': None,\n",
              "  'version': 0,\n",
              "  'book_time': datetime.datetime(2022, 9, 29, 15, 8, 56, 432000),\n",
              "  'refresh_time': datetime.datetime(2022, 9, 29, 15, 12, 13, 314000)},\n",
              " {'state': 2,\n",
              "  'tid': 5,\n",
              "  'spec': None,\n",
              "  'result': {'loss': -0.998714982639027, 'status': 'ok'},\n",
              "  'misc': {'tid': 5,\n",
              "   'cmd': ('domain_attachment', 'FMinIter_Domain'),\n",
              "   'workdir': None,\n",
              "   'idxs': {'colsample_bytree': [5], 'max_depth': [5], 'subsample': [5]},\n",
              "   'vals': {'colsample_bytree': [0.8471373044592687],\n",
              "    'max_depth': [25.0],\n",
              "    'subsample': [0.6854147942333884]}},\n",
              "  'exp_key': None,\n",
              "  'owner': None,\n",
              "  'version': 0,\n",
              "  'book_time': datetime.datetime(2022, 9, 29, 15, 12, 13, 318000),\n",
              "  'refresh_time': datetime.datetime(2022, 9, 29, 15, 16, 7, 906000)},\n",
              " {'state': 2,\n",
              "  'tid': 6,\n",
              "  'spec': None,\n",
              "  'result': {'loss': -0.9986498127403558, 'status': 'ok'},\n",
              "  'misc': {'tid': 6,\n",
              "   'cmd': ('domain_attachment', 'FMinIter_Domain'),\n",
              "   'workdir': None,\n",
              "   'idxs': {'colsample_bytree': [6], 'max_depth': [6], 'subsample': [6]},\n",
              "   'vals': {'colsample_bytree': [0.8788653875417047],\n",
              "    'max_depth': [15.0],\n",
              "    'subsample': [0.7885322307663277]}},\n",
              "  'exp_key': None,\n",
              "  'owner': None,\n",
              "  'version': 0,\n",
              "  'book_time': datetime.datetime(2022, 9, 29, 15, 16, 7, 916000),\n",
              "  'refresh_time': datetime.datetime(2022, 9, 29, 15, 19, 6, 575000)},\n",
              " {'state': 2,\n",
              "  'tid': 7,\n",
              "  'spec': None,\n",
              "  'result': {'loss': -0.9984882189748095, 'status': 'ok'},\n",
              "  'misc': {'tid': 7,\n",
              "   'cmd': ('domain_attachment', 'FMinIter_Domain'),\n",
              "   'workdir': None,\n",
              "   'idxs': {'colsample_bytree': [7], 'max_depth': [7], 'subsample': [7]},\n",
              "   'vals': {'colsample_bytree': [0.6467289122990161],\n",
              "    'max_depth': [25.0],\n",
              "    'subsample': [0.7448786894416723]}},\n",
              "  'exp_key': None,\n",
              "  'owner': None,\n",
              "  'version': 0,\n",
              "  'book_time': datetime.datetime(2022, 9, 29, 15, 19, 6, 580000),\n",
              "  'refresh_time': datetime.datetime(2022, 9, 29, 15, 22, 8, 832000)},\n",
              " {'state': 2,\n",
              "  'tid': 8,\n",
              "  'spec': None,\n",
              "  'result': {'loss': -0.9987137482718652, 'status': 'ok'},\n",
              "  'misc': {'tid': 8,\n",
              "   'cmd': ('domain_attachment', 'FMinIter_Domain'),\n",
              "   'workdir': None,\n",
              "   'idxs': {'colsample_bytree': [8], 'max_depth': [8], 'subsample': [8]},\n",
              "   'vals': {'colsample_bytree': [0.7900654698624935],\n",
              "    'max_depth': [25.0],\n",
              "    'subsample': [0.8852811965282132]}},\n",
              "  'exp_key': None,\n",
              "  'owner': None,\n",
              "  'version': 0,\n",
              "  'book_time': datetime.datetime(2022, 9, 29, 15, 22, 8, 840000),\n",
              "  'refresh_time': datetime.datetime(2022, 9, 29, 15, 25, 46, 430000)},\n",
              " {'state': 2,\n",
              "  'tid': 9,\n",
              "  'spec': None,\n",
              "  'result': {'loss': -0.9987946055709213, 'status': 'ok'},\n",
              "  'misc': {'tid': 9,\n",
              "   'cmd': ('domain_attachment', 'FMinIter_Domain'),\n",
              "   'workdir': None,\n",
              "   'idxs': {'colsample_bytree': [9], 'max_depth': [9], 'subsample': [9]},\n",
              "   'vals': {'colsample_bytree': [0.9225910636154233],\n",
              "    'max_depth': [30.0],\n",
              "    'subsample': [0.8297269242258191]}},\n",
              "  'exp_key': None,\n",
              "  'owner': None,\n",
              "  'version': 0,\n",
              "  'book_time': datetime.datetime(2022, 9, 29, 15, 25, 46, 435000),\n",
              "  'refresh_time': datetime.datetime(2022, 9, 29, 15, 29, 55, 172000)}]"
            ]
          },
          "metadata": {},
          "execution_count": 10
        }
      ]
    },
    {
      "cell_type": "code",
      "source": [
        "print(\"최적 하이퍼파라미터: \", trials.best_trial[\"misc\"][\"vals\"])\n",
        "print(\"최적 AUC: \", -trials.best_trial[\"result\"][\"loss\"])\n",
        "\n",
        "# 최적 하이퍼파라미터:  {'colsample_bytree': [0.9225910636154233], 'max_depth': [30.0], 'subsample': [0.8297269242258191]}\n",
        "# 최적 AUC:  0.9987946055709213"
      ],
      "metadata": {
        "colab": {
          "base_uri": "https://localhost:8080/"
        },
        "id": "NfIseNK06prH",
        "outputId": "e6d64eae-341e-4328-ee72-646d5e5877f8"
      },
      "execution_count": null,
      "outputs": [
        {
          "output_type": "stream",
          "name": "stdout",
          "text": [
            "최적 하이퍼파라미터:  {'colsample_bytree': [0.9225910636154233], 'max_depth': [30.0], 'subsample': [0.8297269242258191]}\n",
            "최적 AUC:  0.9987946055709213\n"
          ]
        }
      ]
    },
    {
      "cell_type": "code",
      "source": [
        "# XG부스트 모델\n",
        "from category_encoders import OrdinalEncoder\n",
        "from sklearn.impute import SimpleImputer\n",
        "from xgboost import XGBClassifier\n",
        "from sklearn.pipeline import make_pipeline\n",
        "\n",
        "\n",
        "pipe_gb = make_pipeline(\n",
        "    OrdinalEncoder(),\n",
        "    SimpleImputer(strategy=\"median\"),\n",
        "    XGBClassifier(\n",
        "        objective=\"binary:logistic\",\n",
        "        eval_metric=\"error\",  # error = 1 - accuracy 지표를 사용해 평가합니다.\n",
        "        n_estimators=1000,\n",
        "        random_state=42,\n",
        "        n_jobs=-1,\n",
        "        max_depth=30,\n",
        "        learning_rate=0.1,\n",
        "        colsample_bytree=0.92,\n",
        "        subsample=0.83,\n",
        "        scale_pos_weight = 7,\n",
        "    ),\n",
        ")\n",
        "print(pipe_gb)\n",
        "\n",
        "pipe_gb.fit(X_train, y_train)\n",
        "print(\"훈련 정확도: \", pipe_gb.score(X_train, y_train))\n",
        "print(\"검증 정확도: \", pipe_gb.score(X_val, y_val))\n"
      ],
      "metadata": {
        "colab": {
          "base_uri": "https://localhost:8080/"
        },
        "id": "_7IVZgbb6puD",
        "outputId": "57f2b340-77b1-4704-dfd6-516ee09b1ed2"
      },
      "execution_count": null,
      "outputs": [
        {
          "output_type": "stream",
          "name": "stdout",
          "text": [
            "Pipeline(steps=[('ordinalencoder', OrdinalEncoder()),\n",
            "                ('simpleimputer', SimpleImputer(strategy='median')),\n",
            "                ('xgbclassifier',\n",
            "                 XGBClassifier(colsample_bytree=0.92, eval_metric='error',\n",
            "                               max_depth=30, n_estimators=1000, n_jobs=-1,\n",
            "                               random_state=42, scale_pos_weight=7,\n",
            "                               subsample=0.83))])\n",
            "훈련 정확도:  1.0\n",
            "검증 정확도:  0.9898600242477681\n"
          ]
        }
      ]
    },
    {
      "cell_type": "code",
      "source": [
        "y_pred_gb = pipe_gb.predict(X_val)\n",
        "print(classification_report(y_val, y_pred_gb))"
      ],
      "metadata": {
        "colab": {
          "base_uri": "https://localhost:8080/"
        },
        "id": "o6LdmybW6pxy",
        "outputId": "aa3ed279-e05b-4e6c-c550-e41d89f984cc"
      },
      "execution_count": null,
      "outputs": [
        {
          "output_type": "stream",
          "name": "stdout",
          "text": [
            "              precision    recall  f1-score   support\n",
            "\n",
            "          No       1.00      0.99      0.99     47734\n",
            "         Yes       0.95      0.97      0.96      6704\n",
            "\n",
            "    accuracy                           0.99     54438\n",
            "   macro avg       0.97      0.98      0.98     54438\n",
            "weighted avg       0.99      0.99      0.99     54438\n",
            "\n"
          ]
        }
      ]
    },
    {
      "cell_type": "code",
      "source": [
        "from sklearn.metrics import confusion_matrix, ConfusionMatrixDisplay\n",
        "import seaborn as sns\n",
        "\n",
        "def plot_confusion_matrix(model, X_val_encoded, y_val):\n",
        "    if isinstance(model, XGBClassifier):\n",
        "        y_pred = model.predict(X_val_encoded, iteration_range=(0, model.best_iteration))\n",
        "    else:\n",
        "        y_pred = model.predict(X_val_encoded)\n",
        "    cm = confusion_matrix(y_val, y_pred)\n",
        "    disp = ConfusionMatrixDisplay(cm)\n",
        "    disp.plot(cmap='Blues')\n",
        "    plt.show()\n",
        "    \n",
        "plot_confusion_matrix(pipe_gb, X_val, y_val)"
      ],
      "metadata": {
        "colab": {
          "base_uri": "https://localhost:8080/",
          "height": 279
        },
        "id": "o_kdPpRNW7K0",
        "outputId": "1148cd5f-8e61-470b-c7ff-da04d6154ff7"
      },
      "execution_count": null,
      "outputs": [
        {
          "output_type": "display_data",
          "data": {
            "text/plain": [
              "<Figure size 432x288 with 2 Axes>"
            ],
            "image/png": "[encoded data removed]"
          },
          "metadata": {
            "needs_background": "light"
          }
        }
      ]
    },
    {
      "cell_type": "code",
      "source": [
        "# 일반화 성능확인<<< 중요.. 중요...>>\n",
        "\n",
        "y_pred_gb_test = pipe_gb.predict(X_test)\n",
        "y_pred_proba_test = pipe_gb.predict_proba(X_test)[:, 1]\n",
        "\n",
        "print(\"테스트 accuracy\", pipe_gb.score(X_test, y_test))\n",
        "print(\"테스트 AUC\", roc_auc_score(y_test, y_pred_proba_test))\n",
        "print(classification_report(y_test, y_pred_gb_test))"
      ],
      "metadata": {
        "colab": {
          "base_uri": "https://localhost:8080/"
        },
        "id": "3xg2qW_25qJN",
        "outputId": "8b275627-2950-4b4f-d399-10e877dc82c9"
      },
      "execution_count": null,
      "outputs": [
        {
          "output_type": "stream",
          "name": "stdout",
          "text": [
            "테스트 accuracy 0.9914167229241007\n",
            "테스트 AUC 0.9992452224673386\n",
            "              precision    recall  f1-score   support\n",
            "\n",
            "          No       1.00      0.99      1.00     63645\n",
            "         Yes       0.96      0.98      0.97      8938\n",
            "\n",
            "    accuracy                           0.99     72583\n",
            "   macro avg       0.98      0.98      0.98     72583\n",
            "weighted avg       0.99      0.99      0.99     72583\n",
            "\n"
          ]
        }
      ]
    },
    {
      "cell_type": "code",
      "source": [
        "from sklearn.metrics import confusion_matrix, ConfusionMatrixDisplay\n",
        "import seaborn as sns\n",
        "\n",
        "def plot_confusion_matrix(model, X_val_encoded, y_val):\n",
        "    if isinstance(model, XGBClassifier):\n",
        "        y_pred = model.predict(X_val_encoded, iteration_range=(0, model.best_iteration))\n",
        "    else:\n",
        "        y_pred = model.predict(X_val_encoded)\n",
        "    cm = confusion_matrix(y_val, y_pred)\n",
        "    disp = ConfusionMatrixDisplay(cm)\n",
        "    disp.plot(cmap='Blues')\n",
        "    plt.show()\n",
        "    \n",
        "plot_confusion_matrix(pipe_gb, X_test, y_test)"
      ],
      "metadata": {
        "colab": {
          "base_uri": "https://localhost:8080/",
          "height": 279
        },
        "id": "7jhyglE85qSV",
        "outputId": "a45c453e-803a-4647-ca89-332b1d7be5ff"
      },
      "execution_count": null,
      "outputs": [
        {
          "output_type": "display_data",
          "data": {
            "text/plain": [
              "<Figure size 432x288 with 2 Axes>"
            ],
            "image/png": "[encoded data removed]"
          },
          "metadata": {
            "needs_background": "light"
          }
        }
      ]
    },
    {
      "cell_type": "code",
      "source": [
        "import matplotlib.pyplot as plt\n",
        "\n",
        "feature_importances = list(\n",
        "    zip(X_train.columns, pipe_gb.named_steps[\"xgbclassifier\"].feature_importances_)\n",
        ")\n",
        "feature_importances = sorted(feature_importances, key=lambda x: x[1], reverse=True)\n",
        "\n",
        "plt.figure(figsize=(8, 6), dpi=120)\n",
        "plt.barh(*list(zip(*feature_importances[::-1])))\n",
        "plt.axvline(0.02, color=\"red\", linewidth=0.5)"
      ],
      "metadata": {
        "colab": {
          "base_uri": "https://localhost:8080/",
          "height": 632
        },
        "id": "D0vmERQeZDhZ",
        "outputId": "0ccbf6ad-a77e-4f4a-a9e8-f2008a2f1a4c"
      },
      "execution_count": null,
      "outputs": [
        {
          "output_type": "execute_result",
          "data": {
            "text/plain": [
              "<matplotlib.lines.Line2D at 0x7f6221c53810>"
            ]
          },
          "metadata": {},
          "execution_count": 33
        },
        {
          "output_type": "display_data",
          "data": {
            "text/plain": [
              "<Figure size 960x720 with 1 Axes>"
            ],
            "image/png": "[encoded data removed]"
          },
          "metadata": {
            "needs_background": "light"
          }
        }
      ]
    },
    {
      "cell_type": "code",
      "source": [
        "features_selected = list(filter(lambda x: x[1] >= 0.02, feature_importances))\n",
        "print(features_selected)\n",
        "selected_feature_names = list(map(lambda x: x[0], features_selected))"
      ],
      "metadata": {
        "colab": {
          "base_uri": "https://localhost:8080/"
        },
        "id": "2F4i9GXvb4a8",
        "outputId": "d15d42e4-55ed-4970-e261-891a9741560e"
      },
      "execution_count": null,
      "outputs": [
        {
          "output_type": "stream",
          "name": "stdout",
          "text": [
            "[('Area', 0.3285049), ('Elevation', 0.29342338), ('Soil_Type', 0.18245049), ('Horizontal_Distance_To_Hydrology', 0.02997858), ('Horizontal_Distance_To_Roadways', 0.028876994), ('Hillshade_9am', 0.02786801), ('Horizontal_Distance_To_Fire_Points', 0.024920924), ('Aspect', 0.0224095)]\n"
          ]
        }
      ]
    },
    {
      "cell_type": "code",
      "source": [
        "X_train_selected = X_train[selected_feature_names]\n",
        "X_val_selected = X_val[selected_feature_names]\n",
        "\n",
        "pipe = make_pipeline(\n",
        "    OrdinalEncoder(),\n",
        "    SimpleImputer(strategy=\"median\"),\n",
        "    XGBClassifier(\n",
        "        objective=\"binary:logistic\",\n",
        "        eval_metric=\"error\",  # error = 1 - accuracy 지표를 사용해 평가합니다.\n",
        "        n_estimators=1000,\n",
        "        random_state=42,\n",
        "        n_jobs=-1,\n",
        "        max_depth=30,\n",
        "        learning_rate=0.1,\n",
        "        colsample_bytree=0.92,\n",
        "        subsample=0.83,\n",
        "        scale_pos_weight = 7,\n",
        "    ),\n",
        ")\n",
        "\n",
        "pipe.fit(X_train_selected, y_train)\n",
        "print(\"검증 AUC: \", pipe.score(X_val_selected, y_val))\n",
        "print(\"특성 수:\")\n",
        "print(\"\\tBefore: \", X_train.shape[1])\n",
        "print(\"\\tAfter: \", X_train_selected.shape[1])"
      ],
      "metadata": {
        "colab": {
          "base_uri": "https://localhost:8080/"
        },
        "id": "sLjYBXDRb4dq",
        "outputId": "f756b034-8e29-44a1-f1db-9b2630c49e2a"
      },
      "execution_count": null,
      "outputs": [
        {
          "output_type": "stream",
          "name": "stdout",
          "text": [
            "검증 AUC:  0.9898600242477681\n",
            "특성 수:\n",
            "\tBefore:  12\n",
            "\tAfter:  8\n"
          ]
        }
      ]
    },
    {
      "cell_type": "code",
      "source": [],
      "metadata": {
        "id": "6SVTSXdcb4gN"
      },
      "execution_count": null,
      "outputs": []
    },
    {
      "cell_type": "code",
      "source": [],
      "metadata": {
        "id": "QYSIdkIDb4lZ"
      },
      "execution_count": null,
      "outputs": []
    }
  ]
}